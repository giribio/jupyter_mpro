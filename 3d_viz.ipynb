{
 "cells": [
  {
   "cell_type": "markdown",
   "metadata": {},
   "source": [
    "# 3D visualisation of Mpro data\n",
    "\n",
    "This notebook prototypes how we can create notebooks that allow to view the poses in their 3D context.\n",
    "\n",
    "The idea is that we can use this when deciding this molecules to progress.\n",
    "\n",
    "Currently it's just a selection of cells that explore how to use [NGL viewer](http://nglviewer.org/) in Jupyter. It is not yet at the stage to be useful.\n",
    "\n",
    "If NGL is not displaying you might need to run this before running Jupyter:\n",
    "```\n",
    "jupyter-nbextension enable nglview --py --sys-prefix\n",
    "```"
   ]
  },
  {
   "cell_type": "code",
   "execution_count": 1,
   "metadata": {},
   "outputs": [
    {
     "data": {
      "application/vnd.jupyter.widget-view+json": {
       "model_id": "c36dc7a466044dfea733e17677b56027",
       "version_major": 2,
       "version_minor": 0
      },
      "text/plain": [
       "_ColormakerRegistry()"
      ]
     },
     "metadata": {},
     "output_type": "display_data"
    }
   ],
   "source": [
    "import nglview as nv\n",
    "import pandas as pd\n",
    "import numpy as np"
   ]
  },
  {
   "cell_type": "code",
   "execution_count": 2,
   "metadata": {},
   "outputs": [],
   "source": [
    "from ipywidgets import IntSlider, VBox"
   ]
  },
  {
   "cell_type": "code",
   "execution_count": 3,
   "metadata": {},
   "outputs": [],
   "source": [
    "from IPython.display import SVG\n",
    "from rdkit import Chem\n",
    "from rdkit.Chem import AllChem\n",
    "from rdkit.Chem import rdDepictor\n",
    "from rdkit.Chem.Draw import rdMolDraw2D\n",
    "from rdkit.Chem import PandasTools"
   ]
  },
  {
   "cell_type": "markdown",
   "metadata": {},
   "source": [
    "First show how we can display a PDB file.\n",
    "\n",
    "Note that you can click on the expand icon in the top right corner to open the viewer in full screen."
   ]
  },
  {
   "cell_type": "code",
   "execution_count": 4,
   "metadata": {},
   "outputs": [
    {
     "data": {
      "application/vnd.jupyter.widget-view+json": {
       "model_id": "db0bdcda5efe4ac3972eac7134113595",
       "version_major": 2,
       "version_minor": 0
      },
      "text/plain": [
       "NGLWidget()"
      ]
     },
     "metadata": {},
     "output_type": "display_data"
    }
   ],
   "source": [
    "view = nv.show_file('data/pdb/Mpro-x0072_0_bound.pdb')\n",
    "view.clear_representations()\n",
    "view.add_cartoon(selection=\"protein\")\n",
    "#view.add_surface(selection=\"protein\", opacity=0.3)\n",
    "#view.add_ball_and_stick(selection=\"ligand\")\n",
    "view.add_licorice(selection=\"ligand\")\n",
    "view"
   ]
  },
  {
   "cell_type": "markdown",
   "metadata": {},
   "source": [
    "Need to work out:\n",
    "- how to show/hide the ligand\n",
    "- how to hide the waters and the irrelevant HETATMs\n",
    "- how to resize the plot (make it square in size)"
   ]
  },
  {
   "cell_type": "markdown",
   "metadata": {},
   "source": [
    "Now let's look at how to read the poses and display them."
   ]
  },
  {
   "cell_type": "code",
   "execution_count": 5,
   "metadata": {},
   "outputs": [
    {
     "data": {
      "text/plain": [
       "(41582, 21)"
      ]
     },
     "execution_count": 5,
     "metadata": {},
     "output_type": "execute_result"
    }
   ],
   "source": [
    "# first read the SDF\n",
    "df = PandasTools.LoadSDF('Mpro_16_data_dist.sdf', molColName='Molecule')\n",
    "df.shape"
   ]
  },
  {
   "cell_type": "code",
   "execution_count": 6,
   "metadata": {},
   "outputs": [
    {
     "data": {
      "text/html": [
       "<div>\n",
       "<style scoped>\n",
       "    .dataframe tbody tr th:only-of-type {\n",
       "        vertical-align: middle;\n",
       "    }\n",
       "\n",
       "    .dataframe tbody tr th {\n",
       "        vertical-align: top;\n",
       "    }\n",
       "\n",
       "    .dataframe thead th {\n",
       "        text-align: right;\n",
       "    }\n",
       "</style>\n",
       "<table border=\"1\" class=\"dataframe\">\n",
       "  <thead>\n",
       "    <tr style=\"text-align: right;\">\n",
       "      <th></th>\n",
       "      <th>Target</th>\n",
       "      <th>TransFSScore</th>\n",
       "      <th>SCORE</th>\n",
       "      <th>SCORE.norm</th>\n",
       "      <th>Max_SuCOS_Score</th>\n",
       "      <th>Max_SuCOS_FeatureMap_Score</th>\n",
       "      <th>Max_SuCOS_Protrude_Score</th>\n",
       "      <th>Max_SuCOS_Index</th>\n",
       "      <th>Cum_SuCOS_Score</th>\n",
       "      <th>Cum_SuCOS_FeatureMap_Score</th>\n",
       "      <th>...</th>\n",
       "      <th>distance1</th>\n",
       "      <th>distance2</th>\n",
       "      <th>distance3</th>\n",
       "      <th>distance4</th>\n",
       "      <th>distance5</th>\n",
       "      <th>distance6</th>\n",
       "      <th>distance7</th>\n",
       "      <th>distance8</th>\n",
       "      <th>ID</th>\n",
       "      <th>Molecule</th>\n",
       "    </tr>\n",
       "  </thead>\n",
       "  <tbody>\n",
       "    <tr>\n",
       "      <th>0</th>\n",
       "      <td>678.sdf.gz</td>\n",
       "      <td>0.162173</td>\n",
       "      <td>-14.4733</td>\n",
       "      <td>-1.31576</td>\n",
       "      <td>0.0</td>\n",
       "      <td>0.0</td>\n",
       "      <td>0.0</td>\n",
       "      <td>0</td>\n",
       "      <td>0.0</td>\n",
       "      <td>0.0</td>\n",
       "      <td>...</td>\n",
       "      <td>10.710180139007932</td>\n",
       "      <td>16.304745352503975</td>\n",
       "      <td>13.91176500484392</td>\n",
       "      <td>10.552996323793542</td>\n",
       "      <td>9.66521751177903</td>\n",
       "      <td>11.546378540910565</td>\n",
       "      <td>14.647385767091682</td>\n",
       "      <td>20.452533980169793</td>\n",
       "      <td>BrC(Br)=Cc1ccc(Br)cc1</td>\n",
       "      <td><img data-content=\"rdkit/molecule\" src=\"data:image/png;base64,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\" alt=\"Mol\"/></td>\n",
       "    </tr>\n",
       "    <tr>\n",
       "      <th>1</th>\n",
       "      <td>104.sdf.gz</td>\n",
       "      <td>0.078375</td>\n",
       "      <td>-30.9106</td>\n",
       "      <td>-3.09106</td>\n",
       "      <td>0.284089</td>\n",
       "      <td>0.024352</td>\n",
       "      <td>0.543826</td>\n",
       "      <td>13</td>\n",
       "      <td>2.078812</td>\n",
       "      <td>0.424377</td>\n",
       "      <td>...</td>\n",
       "      <td>8.567856481641133</td>\n",
       "      <td>14.763000142586195</td>\n",
       "      <td>1.4214143484571982</td>\n",
       "      <td>5.230037610763426</td>\n",
       "      <td>0.7826715530795768</td>\n",
       "      <td>1.8276005334864618</td>\n",
       "      <td>9.265571736811497</td>\n",
       "      <td>10.367241504373284</td>\n",
       "      <td>BrC(Br)=Cc1ccncn1</td>\n",
       "      <td><img data-content=\"rdkit/molecule\" src=\"data:image/png;base64,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\" alt=\"Mol\"/></td>\n",
       "    </tr>\n",
       "    <tr>\n",
       "      <th>2</th>\n",
       "      <td>104.sdf.gz</td>\n",
       "      <td>0.076633</td>\n",
       "      <td>-33.4132</td>\n",
       "      <td>-3.34132</td>\n",
       "      <td>0.31792</td>\n",
       "      <td>0.179804</td>\n",
       "      <td>0.456035</td>\n",
       "      <td>2</td>\n",
       "      <td>2.0723</td>\n",
       "      <td>0.394161</td>\n",
       "      <td>...</td>\n",
       "      <td>8.578404808004809</td>\n",
       "      <td>14.71861292207931</td>\n",
       "      <td>1.4933228251118362</td>\n",
       "      <td>5.131941421138788</td>\n",
       "      <td>0.7663575014312831</td>\n",
       "      <td>1.7553747349212934</td>\n",
       "      <td>9.22355074523906</td>\n",
       "      <td>10.3579120072532</td>\n",
       "      <td>BrC(Br)=Cc1cncnc1</td>\n",
       "      <td><img data-content=\"rdkit/molecule\" src=\"data:image/png;base64,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\" alt=\"Mol\"/></td>\n",
       "    </tr>\n",
       "    <tr>\n",
       "      <th>3</th>\n",
       "      <td>249.sdf.gz</td>\n",
       "      <td>0.178053</td>\n",
       "      <td>-15.4443</td>\n",
       "      <td>-0.90849</td>\n",
       "      <td>0.434434</td>\n",
       "      <td>0.151883</td>\n",
       "      <td>0.716986</td>\n",
       "      <td>13</td>\n",
       "      <td>3.900913</td>\n",
       "      <td>1.153626</td>\n",
       "      <td>...</td>\n",
       "      <td>6.085729245538286</td>\n",
       "      <td>9.413431813106206</td>\n",
       "      <td>1.253561701712364</td>\n",
       "      <td>1.9011986876704918</td>\n",
       "      <td>2.3459831712951376</td>\n",
       "      <td>2.110109148835672</td>\n",
       "      <td>3.7514797120602954</td>\n",
       "      <td>6.927404672747221</td>\n",
       "      <td>BrC(CCC1CCCCC1)Cc1ccccn1</td>\n",
       "      <td><img data-content=\"rdkit/molecule\" src=\"data:image/png;base64,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\" alt=\"Mol\"/></td>\n",
       "    </tr>\n",
       "    <tr>\n",
       "      <th>4</th>\n",
       "      <td>678.sdf.gz</td>\n",
       "      <td>0.431011</td>\n",
       "      <td>-23.7233</td>\n",
       "      <td>-1.39549</td>\n",
       "      <td>0.308991</td>\n",
       "      <td>0.09981</td>\n",
       "      <td>0.518171</td>\n",
       "      <td>8</td>\n",
       "      <td>3.210272</td>\n",
       "      <td>0.57876</td>\n",
       "      <td>...</td>\n",
       "      <td>4.619998675324484</td>\n",
       "      <td>7.01563288520715</td>\n",
       "      <td>7.200802048383221</td>\n",
       "      <td>0.7981530805553543</td>\n",
       "      <td>6.650019033055468</td>\n",
       "      <td>0.7308733063944811</td>\n",
       "      <td>1.498957297590562</td>\n",
       "      <td>6.085046479691015</td>\n",
       "      <td>BrC(CCC1CCCCC1)Cc1ccncc1</td>\n",
       "      <td><img data-content=\"rdkit/molecule\" src=\"data:image/png;base64,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\" alt=\"Mol\"/></td>\n",
       "    </tr>\n",
       "  </tbody>\n",
       "</table>\n",
       "<p>5 rows × 21 columns</p>\n",
       "</div>"
      ],
      "text/plain": [
       "       Target TransFSScore     SCORE SCORE.norm Max_SuCOS_Score  \\\n",
       "0  678.sdf.gz     0.162173  -14.4733   -1.31576             0.0   \n",
       "1  104.sdf.gz     0.078375  -30.9106   -3.09106        0.284089   \n",
       "2  104.sdf.gz     0.076633  -33.4132   -3.34132         0.31792   \n",
       "3  249.sdf.gz     0.178053  -15.4443   -0.90849        0.434434   \n",
       "4  678.sdf.gz     0.431011  -23.7233   -1.39549        0.308991   \n",
       "\n",
       "  Max_SuCOS_FeatureMap_Score Max_SuCOS_Protrude_Score Max_SuCOS_Index  \\\n",
       "0                        0.0                      0.0               0   \n",
       "1                   0.024352                 0.543826              13   \n",
       "2                   0.179804                 0.456035               2   \n",
       "3                   0.151883                 0.716986              13   \n",
       "4                    0.09981                 0.518171               8   \n",
       "\n",
       "  Cum_SuCOS_Score Cum_SuCOS_FeatureMap_Score  ...           distance1  \\\n",
       "0             0.0                        0.0  ...  10.710180139007932   \n",
       "1        2.078812                   0.424377  ...   8.567856481641133   \n",
       "2          2.0723                   0.394161  ...   8.578404808004809   \n",
       "3        3.900913                   1.153626  ...   6.085729245538286   \n",
       "4        3.210272                    0.57876  ...   4.619998675324484   \n",
       "\n",
       "            distance2           distance3           distance4  \\\n",
       "0  16.304745352503975   13.91176500484392  10.552996323793542   \n",
       "1  14.763000142586195  1.4214143484571982   5.230037610763426   \n",
       "2   14.71861292207931  1.4933228251118362   5.131941421138788   \n",
       "3   9.413431813106206   1.253561701712364  1.9011986876704918   \n",
       "4    7.01563288520715   7.200802048383221  0.7981530805553543   \n",
       "\n",
       "            distance5           distance6           distance7  \\\n",
       "0    9.66521751177903  11.546378540910565  14.647385767091682   \n",
       "1  0.7826715530795768  1.8276005334864618   9.265571736811497   \n",
       "2  0.7663575014312831  1.7553747349212934    9.22355074523906   \n",
       "3  2.3459831712951376   2.110109148835672  3.7514797120602954   \n",
       "4   6.650019033055468  0.7308733063944811   1.498957297590562   \n",
       "\n",
       "            distance8                        ID  \\\n",
       "0  20.452533980169793     BrC(Br)=Cc1ccc(Br)cc1   \n",
       "1  10.367241504373284         BrC(Br)=Cc1ccncn1   \n",
       "2    10.3579120072532         BrC(Br)=Cc1cncnc1   \n",
       "3   6.927404672747221  BrC(CCC1CCCCC1)Cc1ccccn1   \n",
       "4   6.085046479691015  BrC(CCC1CCCCC1)Cc1ccncc1   \n",
       "\n",
       "                                            Molecule  \n",
       "0  <img data-content=\"rdkit/molecule\" src=\"data:i...  \n",
       "1  <img data-content=\"rdkit/molecule\" src=\"data:i...  \n",
       "2  <img data-content=\"rdkit/molecule\" src=\"data:i...  \n",
       "3  <img data-content=\"rdkit/molecule\" src=\"data:i...  \n",
       "4  <img data-content=\"rdkit/molecule\" src=\"data:i...  \n",
       "\n",
       "[5 rows x 21 columns]"
      ]
     },
     "execution_count": 6,
     "metadata": {},
     "output_type": "execute_result"
    }
   ],
   "source": [
    "df.head()"
   ]
  },
  {
   "cell_type": "code",
   "execution_count": 7,
   "metadata": {},
   "outputs": [
    {
     "data": {
      "text/plain": [
       "rdkit.Chem.rdchem.Mol"
      ]
     },
     "execution_count": 7,
     "metadata": {},
     "output_type": "execute_result"
    }
   ],
   "source": [
    "# the Molecule column contains the rdkit.Chem.rdchem.Mol objects that we are needing.\n",
    "# We grab the first 50\n",
    "\n",
    "mols = df.head(50)['Molecule']\n",
    "type(mols[0])"
   ]
  },
  {
   "cell_type": "code",
   "execution_count": 8,
   "metadata": {},
   "outputs": [
    {
     "data": {
      "application/vnd.jupyter.widget-view+json": {
       "model_id": "ac6ffcb432614d3898a20ebe625db34f",
       "version_major": 2,
       "version_minor": 0
      },
      "text/plain": [
       "VBox(children=(NGLWidget(), IntSlider(value=0, max=49)))"
      ]
     },
     "metadata": {},
     "output_type": "display_data"
    }
   ],
   "source": [
    "# this cell takes those first 50 molecules and dispalys them with NGL.\n",
    "# The slider lets you step through them.\n",
    "\n",
    "view = nv.NGLWidget()\n",
    "\n",
    "for mol in mols:\n",
    "    view.add_structure(nv.RdkitStructure(mol))\n",
    "view.show_only([0])\n",
    "\n",
    "slider = IntSlider(max=len(mols)-1)\n",
    "\n",
    "def show_one_ligand(change):\n",
    "    val = change['new']\n",
    "    view.show_only([val])\n",
    "    \n",
    "slider.observe(show_one_ligand, 'value')\n",
    "\n",
    "VBox([view, slider])"
   ]
  },
  {
   "cell_type": "markdown",
   "metadata": {},
   "source": [
    "## TODO\n",
    "\n",
    "- work out how to combine the poses and the protein\n",
    "- better way to navigate through the poses\n",
    "- a way to visualise the virtual screening scores (use a plot that allows to filter these and those selected get dispalyed in 3D?)\n",
    "- allow user to choose which protein to view (each pose knows the protein it was docked into)\n",
    "- also show the 2D (SMILES) alongside to make interpretation simpler\n",
    "- lots more!\n",
    "\n",
    "**If anyone has expertise in using NGL in Jupyter and want to help out there then please let us know!**\n"
   ]
  },
  {
   "cell_type": "code",
   "execution_count": null,
   "metadata": {},
   "outputs": [],
   "source": []
  }
 ],
 "metadata": {
  "kernelspec": {
   "display_name": "Python 3",
   "language": "python",
   "name": "python3"
  },
  "language_info": {
   "codemirror_mode": {
    "name": "ipython",
    "version": 3
   },
   "file_extension": ".py",
   "mimetype": "text/x-python",
   "name": "python",
   "nbconvert_exporter": "python",
   "pygments_lexer": "ipython3",
   "version": "3.8.2"
  }
 },
 "nbformat": 4,
 "nbformat_minor": 4
}
