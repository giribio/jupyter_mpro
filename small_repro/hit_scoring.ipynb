{
 "cells": [
  {
   "cell_type": "code",
   "execution_count": 17,
   "metadata": {},
   "outputs": [],
   "source": [
    "import pandas as pd\n",
    "import numpy as np\n",
    "import scipy as sp\n",
    "import plotly\n",
    "import plotly.graph_objects as go\n",
    "import plotly.express as px\n",
    "import plotly.io as pio"
   ]
  },
  {
   "cell_type": "code",
   "execution_count": 18,
   "metadata": {},
   "outputs": [],
   "source": [
    "from rdkit import Chem\n",
    "from rdkit.Chem import AllChem\n",
    "from IPython.display import SVG\n",
    "from rdkit.Chem import rdDepictor\n",
    "from rdkit.Chem.Draw import rdMolDraw2D\n",
    "from rdkit.Chem import PandasTools"
   ]
  },
  {
   "cell_type": "code",
   "execution_count": 19,
   "metadata": {},
   "outputs": [],
   "source": [
    "def fix_columns(df, tfs_col_name):\n",
    "    df = df.drop(columns=['TransFSReceptor','Molecule'])\n",
    "    df = df.astype(dtype= {\"TransFSScore\":\"float64\"})\n",
    "    df = df.rename(columns={'TransFSScore':tfs_col_name})\n",
    "    return df"
   ]
  },
  {
   "cell_type": "code",
   "execution_count": 20,
   "metadata": {},
   "outputs": [
    {
     "data": {
      "text/plain": [
       "TransFSScore_orig    float64\n",
       "ID                    object\n",
       "dtype: object"
      ]
     },
     "execution_count": 20,
     "metadata": {},
     "output_type": "execute_result"
    }
   ],
   "source": [
    "df_orig = PandasTools.LoadSDF('hits24_orig.sdf.gz', molColName='Molecule')\n",
    "df_orig = fix_columns(df_orig, 'TransFSScore_orig')\n",
    "df_orig.dtypes"
   ]
  },
  {
   "cell_type": "code",
   "execution_count": 21,
   "metadata": {},
   "outputs": [
    {
     "data": {
      "text/plain": [
       "TransFSScore_10nM    float64\n",
       "ID                    object\n",
       "dtype: object"
      ]
     },
     "execution_count": 21,
     "metadata": {},
     "output_type": "execute_result"
    }
   ],
   "source": [
    "df_10 = PandasTools.LoadSDF('hits24_10nM.sdf.gz', molColName='Molecule')\n",
    "df_10 = fix_columns(df_10, 'TransFSScore_10nM')\n",
    "df_10.dtypes"
   ]
  },
  {
   "cell_type": "code",
   "execution_count": 22,
   "metadata": {},
   "outputs": [
    {
     "data": {
      "text/plain": [
       "TransFSScore_50nM    float64\n",
       "ID                    object\n",
       "dtype: object"
      ]
     },
     "execution_count": 22,
     "metadata": {},
     "output_type": "execute_result"
    }
   ],
   "source": [
    "df_50 = PandasTools.LoadSDF('hits24_50nM.sdf.gz', molColName='Molecule')\n",
    "df_50 = fix_columns(df_50, 'TransFSScore_50nM')\n",
    "df_50.dtypes"
   ]
  },
  {
   "cell_type": "code",
   "execution_count": 23,
   "metadata": {},
   "outputs": [
    {
     "data": {
      "text/plain": [
       "TransFSScore_200nM    float64\n",
       "ID                     object\n",
       "dtype: object"
      ]
     },
     "execution_count": 23,
     "metadata": {},
     "output_type": "execute_result"
    }
   ],
   "source": [
    "df_200 = PandasTools.LoadSDF('hits24_200nM.sdf.gz', molColName='Molecule')\n",
    "df_200 = fix_columns(df_200, 'TransFSScore_200nM')\n",
    "df_200.dtypes"
   ]
  },
  {
   "cell_type": "code",
   "execution_count": 24,
   "metadata": {},
   "outputs": [
    {
     "data": {
      "text/plain": [
       "TransFSScore_orig     float64\n",
       "ID                     object\n",
       "TransFSScore_10nM     float64\n",
       "TransFSScore_50nM     float64\n",
       "TransFSScore_200nM    float64\n",
       "TransFSScore_avg      float64\n",
       "dtype: object"
      ]
     },
     "execution_count": 24,
     "metadata": {},
     "output_type": "execute_result"
    }
   ],
   "source": [
    "merged = pd.merge(df_orig, df_10, on='ID')\n",
    "merged = pd.merge(merged, df_50, on='ID')\n",
    "merged = pd.merge(merged, df_200, on='ID')\n",
    "merged['TransFSScore_avg'] = (merged['TransFSScore_200nM'] + merged['TransFSScore_50nM'] + merged['TransFSScore_10nM'] + merged['TransFSScore_orig']) /4\n",
    "merged.dtypes"
   ]
  },
  {
   "cell_type": "code",
   "execution_count": 25,
   "metadata": {},
   "outputs": [
    {
     "data": {
      "text/html": [
       "<div>\n",
       "<style scoped>\n",
       "    .dataframe tbody tr th:only-of-type {\n",
       "        vertical-align: middle;\n",
       "    }\n",
       "\n",
       "    .dataframe tbody tr th {\n",
       "        vertical-align: top;\n",
       "    }\n",
       "\n",
       "    .dataframe thead th {\n",
       "        text-align: right;\n",
       "    }\n",
       "</style>\n",
       "<table border=\"1\" class=\"dataframe\">\n",
       "  <thead>\n",
       "    <tr style=\"text-align: right;\">\n",
       "      <th></th>\n",
       "      <th>TransFSScore_orig</th>\n",
       "      <th>ID</th>\n",
       "      <th>TransFSScore_10nM</th>\n",
       "      <th>TransFSScore_50nM</th>\n",
       "      <th>TransFSScore_200nM</th>\n",
       "      <th>TransFSScore_avg</th>\n",
       "    </tr>\n",
       "  </thead>\n",
       "  <tbody>\n",
       "    <tr>\n",
       "      <th>0</th>\n",
       "      <td>0.221069</td>\n",
       "      <td>Mpro-x0072_0</td>\n",
       "      <td>0.048462</td>\n",
       "      <td>0.003264</td>\n",
       "      <td>0.362246</td>\n",
       "      <td>0.158760</td>\n",
       "    </tr>\n",
       "    <tr>\n",
       "      <th>1</th>\n",
       "      <td>0.060166</td>\n",
       "      <td>Mpro-x0104_0</td>\n",
       "      <td>0.014496</td>\n",
       "      <td>0.069032</td>\n",
       "      <td>0.090082</td>\n",
       "      <td>0.058444</td>\n",
       "    </tr>\n",
       "    <tr>\n",
       "      <th>2</th>\n",
       "      <td>0.054272</td>\n",
       "      <td>Mpro-x0107_0</td>\n",
       "      <td>0.006480</td>\n",
       "      <td>0.002706</td>\n",
       "      <td>0.027572</td>\n",
       "      <td>0.022757</td>\n",
       "    </tr>\n",
       "    <tr>\n",
       "      <th>3</th>\n",
       "      <td>0.573989</td>\n",
       "      <td>Mpro-x0161_0</td>\n",
       "      <td>0.220882</td>\n",
       "      <td>0.514663</td>\n",
       "      <td>0.847080</td>\n",
       "      <td>0.539154</td>\n",
       "    </tr>\n",
       "    <tr>\n",
       "      <th>4</th>\n",
       "      <td>0.675797</td>\n",
       "      <td>Mpro-x0195_0</td>\n",
       "      <td>0.731255</td>\n",
       "      <td>0.603175</td>\n",
       "      <td>0.951821</td>\n",
       "      <td>0.740512</td>\n",
       "    </tr>\n",
       "    <tr>\n",
       "      <th>5</th>\n",
       "      <td>0.202784</td>\n",
       "      <td>Mpro-x0305_0</td>\n",
       "      <td>0.019904</td>\n",
       "      <td>0.005341</td>\n",
       "      <td>0.128470</td>\n",
       "      <td>0.089125</td>\n",
       "    </tr>\n",
       "    <tr>\n",
       "      <th>6</th>\n",
       "      <td>0.050559</td>\n",
       "      <td>Mpro-x0354_0</td>\n",
       "      <td>0.015247</td>\n",
       "      <td>0.014771</td>\n",
       "      <td>0.097355</td>\n",
       "      <td>0.044483</td>\n",
       "    </tr>\n",
       "    <tr>\n",
       "      <th>7</th>\n",
       "      <td>0.014540</td>\n",
       "      <td>Mpro-x0387_0</td>\n",
       "      <td>0.007903</td>\n",
       "      <td>0.000543</td>\n",
       "      <td>0.050847</td>\n",
       "      <td>0.018458</td>\n",
       "    </tr>\n",
       "    <tr>\n",
       "      <th>8</th>\n",
       "      <td>0.011602</td>\n",
       "      <td>Mpro-x0395_0</td>\n",
       "      <td>0.000806</td>\n",
       "      <td>0.003133</td>\n",
       "      <td>0.022731</td>\n",
       "      <td>0.009568</td>\n",
       "    </tr>\n",
       "    <tr>\n",
       "      <th>9</th>\n",
       "      <td>0.036148</td>\n",
       "      <td>Mpro-x0397_0</td>\n",
       "      <td>0.000416</td>\n",
       "      <td>0.000362</td>\n",
       "      <td>0.004573</td>\n",
       "      <td>0.010375</td>\n",
       "    </tr>\n",
       "    <tr>\n",
       "      <th>10</th>\n",
       "      <td>0.066295</td>\n",
       "      <td>Mpro-x0426_0</td>\n",
       "      <td>0.003605</td>\n",
       "      <td>0.003138</td>\n",
       "      <td>0.012188</td>\n",
       "      <td>0.021307</td>\n",
       "    </tr>\n",
       "    <tr>\n",
       "      <th>11</th>\n",
       "      <td>0.150813</td>\n",
       "      <td>Mpro-x0434_0</td>\n",
       "      <td>0.018831</td>\n",
       "      <td>0.031514</td>\n",
       "      <td>0.620647</td>\n",
       "      <td>0.205451</td>\n",
       "    </tr>\n",
       "    <tr>\n",
       "      <th>12</th>\n",
       "      <td>0.065636</td>\n",
       "      <td>Mpro-x0540_0</td>\n",
       "      <td>0.000014</td>\n",
       "      <td>0.000068</td>\n",
       "      <td>0.001261</td>\n",
       "      <td>0.016745</td>\n",
       "    </tr>\n",
       "    <tr>\n",
       "      <th>13</th>\n",
       "      <td>0.148955</td>\n",
       "      <td>Mpro-x0678_0</td>\n",
       "      <td>0.004112</td>\n",
       "      <td>0.002532</td>\n",
       "      <td>0.039495</td>\n",
       "      <td>0.048773</td>\n",
       "    </tr>\n",
       "    <tr>\n",
       "      <th>14</th>\n",
       "      <td>0.086470</td>\n",
       "      <td>Mpro-x0874_0</td>\n",
       "      <td>0.035703</td>\n",
       "      <td>0.016956</td>\n",
       "      <td>0.018257</td>\n",
       "      <td>0.039346</td>\n",
       "    </tr>\n",
       "    <tr>\n",
       "      <th>15</th>\n",
       "      <td>0.119805</td>\n",
       "      <td>Mpro-x0887_0</td>\n",
       "      <td>0.001346</td>\n",
       "      <td>0.002299</td>\n",
       "      <td>0.001856</td>\n",
       "      <td>0.031327</td>\n",
       "    </tr>\n",
       "    <tr>\n",
       "      <th>16</th>\n",
       "      <td>0.124227</td>\n",
       "      <td>Mpro-x0946_0</td>\n",
       "      <td>0.039601</td>\n",
       "      <td>0.239512</td>\n",
       "      <td>0.351031</td>\n",
       "      <td>0.188593</td>\n",
       "    </tr>\n",
       "    <tr>\n",
       "      <th>17</th>\n",
       "      <td>0.079099</td>\n",
       "      <td>Mpro-x0967_0</td>\n",
       "      <td>0.122877</td>\n",
       "      <td>0.005931</td>\n",
       "      <td>0.063919</td>\n",
       "      <td>0.067957</td>\n",
       "    </tr>\n",
       "    <tr>\n",
       "      <th>18</th>\n",
       "      <td>0.727901</td>\n",
       "      <td>Mpro-x0991_0</td>\n",
       "      <td>0.028015</td>\n",
       "      <td>0.098669</td>\n",
       "      <td>0.635447</td>\n",
       "      <td>0.372508</td>\n",
       "    </tr>\n",
       "    <tr>\n",
       "      <th>19</th>\n",
       "      <td>0.075079</td>\n",
       "      <td>Mpro-x0995_0</td>\n",
       "      <td>0.001561</td>\n",
       "      <td>0.003039</td>\n",
       "      <td>0.045262</td>\n",
       "      <td>0.031235</td>\n",
       "    </tr>\n",
       "    <tr>\n",
       "      <th>20</th>\n",
       "      <td>0.396120</td>\n",
       "      <td>Mpro-x1077_0</td>\n",
       "      <td>0.030932</td>\n",
       "      <td>0.034527</td>\n",
       "      <td>0.756758</td>\n",
       "      <td>0.304584</td>\n",
       "    </tr>\n",
       "    <tr>\n",
       "      <th>21</th>\n",
       "      <td>0.127281</td>\n",
       "      <td>Mpro-x1086_0</td>\n",
       "      <td>0.013256</td>\n",
       "      <td>0.012899</td>\n",
       "      <td>0.600506</td>\n",
       "      <td>0.188486</td>\n",
       "    </tr>\n",
       "    <tr>\n",
       "      <th>22</th>\n",
       "      <td>0.477698</td>\n",
       "      <td>Mpro-x1093_0</td>\n",
       "      <td>0.011613</td>\n",
       "      <td>0.048808</td>\n",
       "      <td>0.498265</td>\n",
       "      <td>0.259096</td>\n",
       "    </tr>\n",
       "    <tr>\n",
       "      <th>23</th>\n",
       "      <td>0.421095</td>\n",
       "      <td>Mpro-x1249_0</td>\n",
       "      <td>0.018866</td>\n",
       "      <td>0.011395</td>\n",
       "      <td>0.189293</td>\n",
       "      <td>0.160162</td>\n",
       "    </tr>\n",
       "  </tbody>\n",
       "</table>\n",
       "</div>"
      ],
      "text/plain": [
       "    TransFSScore_orig            ID  TransFSScore_10nM  TransFSScore_50nM  \\\n",
       "0            0.221069  Mpro-x0072_0           0.048462           0.003264   \n",
       "1            0.060166  Mpro-x0104_0           0.014496           0.069032   \n",
       "2            0.054272  Mpro-x0107_0           0.006480           0.002706   \n",
       "3            0.573989  Mpro-x0161_0           0.220882           0.514663   \n",
       "4            0.675797  Mpro-x0195_0           0.731255           0.603175   \n",
       "5            0.202784  Mpro-x0305_0           0.019904           0.005341   \n",
       "6            0.050559  Mpro-x0354_0           0.015247           0.014771   \n",
       "7            0.014540  Mpro-x0387_0           0.007903           0.000543   \n",
       "8            0.011602  Mpro-x0395_0           0.000806           0.003133   \n",
       "9            0.036148  Mpro-x0397_0           0.000416           0.000362   \n",
       "10           0.066295  Mpro-x0426_0           0.003605           0.003138   \n",
       "11           0.150813  Mpro-x0434_0           0.018831           0.031514   \n",
       "12           0.065636  Mpro-x0540_0           0.000014           0.000068   \n",
       "13           0.148955  Mpro-x0678_0           0.004112           0.002532   \n",
       "14           0.086470  Mpro-x0874_0           0.035703           0.016956   \n",
       "15           0.119805  Mpro-x0887_0           0.001346           0.002299   \n",
       "16           0.124227  Mpro-x0946_0           0.039601           0.239512   \n",
       "17           0.079099  Mpro-x0967_0           0.122877           0.005931   \n",
       "18           0.727901  Mpro-x0991_0           0.028015           0.098669   \n",
       "19           0.075079  Mpro-x0995_0           0.001561           0.003039   \n",
       "20           0.396120  Mpro-x1077_0           0.030932           0.034527   \n",
       "21           0.127281  Mpro-x1086_0           0.013256           0.012899   \n",
       "22           0.477698  Mpro-x1093_0           0.011613           0.048808   \n",
       "23           0.421095  Mpro-x1249_0           0.018866           0.011395   \n",
       "\n",
       "    TransFSScore_200nM  TransFSScore_avg  \n",
       "0             0.362246          0.158760  \n",
       "1             0.090082          0.058444  \n",
       "2             0.027572          0.022757  \n",
       "3             0.847080          0.539154  \n",
       "4             0.951821          0.740512  \n",
       "5             0.128470          0.089125  \n",
       "6             0.097355          0.044483  \n",
       "7             0.050847          0.018458  \n",
       "8             0.022731          0.009568  \n",
       "9             0.004573          0.010375  \n",
       "10            0.012188          0.021307  \n",
       "11            0.620647          0.205451  \n",
       "12            0.001261          0.016745  \n",
       "13            0.039495          0.048773  \n",
       "14            0.018257          0.039346  \n",
       "15            0.001856          0.031327  \n",
       "16            0.351031          0.188593  \n",
       "17            0.063919          0.067957  \n",
       "18            0.635447          0.372508  \n",
       "19            0.045262          0.031235  \n",
       "20            0.756758          0.304584  \n",
       "21            0.600506          0.188486  \n",
       "22            0.498265          0.259096  \n",
       "23            0.189293          0.160162  "
      ]
     },
     "execution_count": 25,
     "metadata": {},
     "output_type": "execute_result"
    }
   ],
   "source": [
    "merged.head(24)"
   ]
  },
  {
   "cell_type": "code",
   "execution_count": 26,
   "metadata": {},
   "outputs": [
    {
     "data": {
      "image/svg+xml": [
       "<svg class=\"main-svg\" xmlns=\"http://www.w3.org/2000/svg\" xmlns:xlink=\"http://www.w3.org/1999/xlink\" width=\"700\" height=\"450\" style=\"\" viewBox=\"0 0 700 450\"><rect x=\"0\" y=\"0\" width=\"700\" height=\"450\" style=\"fill: rgb(255, 255, 255); fill-opacity: 1;\"/><defs id=\"defs-9a1190\"><g class=\"clips\"/><g class=\"gradients\"/></defs><g class=\"bglayer\"/><g class=\"layer-below\"><g class=\"imagelayer\"/><g class=\"shapelayer\"/></g><g class=\"cartesianlayer\"/><g class=\"polarlayer\"/><g class=\"ternarylayer\"/><g class=\"geolayer\"/><g class=\"funnelarealayer\"/><g class=\"pielayer\"/><g class=\"treemaplayer\"/><g class=\"sunburstlayer\"/><g class=\"glimages\"><image xmlns=\"http://www.w3.org/2000/svg\" xlink:href=\"data:image/png;base64,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\" preserveAspectRatio=\"none\" x=\"0\" y=\"0\" width=\"700\" height=\"450\"/><image xmlns=\"http://www.w3.org/2000/svg\" xlink:href=\"data:image/png;base64,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\" preserveAspectRatio=\"none\" x=\"0\" y=\"0\" width=\"700\" height=\"450\"/></g><defs id=\"topdefs-9a1190\"><g class=\"clips\"/></defs><g class=\"layer-above\"><g class=\"imagelayer\"/><g class=\"shapelayer\"/></g><g class=\"infolayer\"><g class=\"g-gtitle\"/></g><g class=\"parcoords\" transform=\"translate(0,0)\" style=\"shape-rendering: crispedges; pointer-events: none;\"><g class=\"parcoords-control-view\" transform=\"translate(80,60)\"><g class=\"y-axis\" transform=\"translate(0, 0)\"><g class=\"axis-overlays\"><g class=\"axis\"><g class=\"tick\" transform=\"translate(0,270.2367363349663)\" style=\"opacity: 1;\"><line x2=\"-4\" y2=\"0\" fill=\"none\" stroke=\"black\" stroke-opacity=\"0.25\" stroke-width=\"1px\"/><text dy=\".32em\" x=\"-7\" y=\"0\" style=\"text-anchor: end; font-family: 'Open Sans', verdana, arial, sans-serif; font-size: 10px; fill: rgb(42, 63, 95); fill-opacity: 1; text-shadow: rgb(255, 255, 255) 1px 1px 1px, rgb(255, 255, 255) -1px -1px 1px, rgb(255, 255, 255) 1px -1px 1px, rgb(255, 255, 255) -1px 1px 1px; cursor: default; user-select: none;\">0.1</text></g><g class=\"tick\" transform=\"translate(0,227.5171457729244)\" style=\"opacity: 1;\"><line x2=\"-4\" y2=\"0\" fill=\"none\" stroke=\"black\" stroke-opacity=\"0.25\" stroke-width=\"1px\"/><text dy=\".32em\" x=\"-7\" y=\"0\" style=\"text-anchor: end; font-family: 'Open Sans', verdana, arial, sans-serif; font-size: 10px; fill: rgb(42, 63, 95); fill-opacity: 1; text-shadow: rgb(255, 255, 255) 1px 1px 1px, rgb(255, 255, 255) -1px -1px 1px, rgb(255, 255, 255) 1px -1px 1px, rgb(255, 255, 255) -1px 1px 1px; cursor: default; user-select: none;\">0.2</text></g><g class=\"tick\" transform=\"translate(0,184.79755521088265)\" style=\"opacity: 1;\"><line x2=\"-4\" y2=\"0\" fill=\"none\" stroke=\"black\" stroke-opacity=\"0.25\" stroke-width=\"1px\"/><text dy=\".32em\" x=\"-7\" y=\"0\" style=\"text-anchor: end; font-family: 'Open Sans', verdana, arial, sans-serif; font-size: 10px; fill: rgb(42, 63, 95); fill-opacity: 1; text-shadow: rgb(255, 255, 255) 1px 1px 1px, rgb(255, 255, 255) -1px -1px 1px, rgb(255, 255, 255) 1px -1px 1px, rgb(255, 255, 255) -1px 1px 1px; cursor: default; user-select: none;\">0.3</text></g><g class=\"tick\" transform=\"translate(0,142.07796464884078)\" style=\"opacity: 1;\"><line x2=\"-4\" y2=\"0\" fill=\"none\" stroke=\"black\" stroke-opacity=\"0.25\" stroke-width=\"1px\"/><text dy=\".32em\" x=\"-7\" y=\"0\" style=\"text-anchor: end; font-family: 'Open Sans', verdana, arial, sans-serif; font-size: 10px; fill: rgb(42, 63, 95); fill-opacity: 1; text-shadow: rgb(255, 255, 255) 1px 1px 1px, rgb(255, 255, 255) -1px -1px 1px, rgb(255, 255, 255) 1px -1px 1px, rgb(255, 255, 255) -1px 1px 1px; cursor: default; user-select: none;\">0.4</text></g><g class=\"tick\" transform=\"translate(0,99.35837408679895)\" style=\"opacity: 1;\"><line x2=\"-4\" y2=\"0\" fill=\"none\" stroke=\"black\" stroke-opacity=\"0.25\" stroke-width=\"1px\"/><text dy=\".32em\" x=\"-7\" y=\"0\" style=\"text-anchor: end; font-family: 'Open Sans', verdana, arial, sans-serif; font-size: 10px; fill: rgb(42, 63, 95); fill-opacity: 1; text-shadow: rgb(255, 255, 255) 1px 1px 1px, rgb(255, 255, 255) -1px -1px 1px, rgb(255, 255, 255) 1px -1px 1px, rgb(255, 255, 255) -1px 1px 1px; cursor: default; user-select: none;\">0.5</text></g><g class=\"tick\" transform=\"translate(0,56.63878352475712)\" style=\"opacity: 1;\"><line x2=\"-4\" y2=\"0\" fill=\"none\" stroke=\"black\" stroke-opacity=\"0.25\" stroke-width=\"1px\"/><text dy=\".32em\" x=\"-7\" y=\"0\" style=\"text-anchor: end; font-family: 'Open Sans', verdana, arial, sans-serif; font-size: 10px; fill: rgb(42, 63, 95); fill-opacity: 1; text-shadow: rgb(255, 255, 255) 1px 1px 1px, rgb(255, 255, 255) -1px -1px 1px, rgb(255, 255, 255) 1px -1px 1px, rgb(255, 255, 255) -1px 1px 1px; cursor: default; user-select: none;\">0.6</text></g><g class=\"tick\" transform=\"translate(0,13.919192962715304)\" style=\"opacity: 1;\"><line x2=\"-4\" y2=\"0\" fill=\"none\" stroke=\"black\" stroke-opacity=\"0.25\" stroke-width=\"1px\"/><text dy=\".32em\" x=\"-7\" y=\"0\" style=\"text-anchor: end; font-family: 'Open Sans', verdana, arial, sans-serif; font-size: 10px; fill: rgb(42, 63, 95); fill-opacity: 1; text-shadow: rgb(255, 255, 255) 1px 1px 1px, rgb(255, 255, 255) -1px -1px 1px, rgb(255, 255, 255) 1px -1px 1px, rgb(255, 255, 255) -1px 1px 1px; cursor: default; user-select: none;\">0.7</text></g><path class=\"domain\" d=\"M-2,2H0V308H-2\" fill=\"none\" stroke=\"black\" stroke-opacity=\"0.25\" stroke-width=\"1px\"/></g><g class=\"axis-heading\"><text class=\"axis-title\" text-anchor=\"middle\" x=\"0\" y=\"0\" transform=\"rotate(0)translate(0,-28)\" style=\"cursor: ew-resize; user-select: none; pointer-events: auto; font-family: 'Open Sans', verdana, arial, sans-serif; font-size: 10px; fill: rgb(42, 63, 95); fill-opacity: 1; white-space: pre;\">TransFSScore_orig</text></g><g class=\"axis-extent\"><g class=\"axis-extent-top\" transform=\"translate(0,-10)\"><text class=\"axis-extent-top-text axis-extent-text\" text-anchor=\"middle\" style=\"cursor: default; user-select: none; font-family: 'Open Sans', verdana, arial, sans-serif; font-size: 10px; fill: rgb(42, 63, 95); fill-opacity: 1;\">0.7279</text></g><g class=\"axis-extent-bottom\" transform=\"translate(0,320)\"><text class=\"axis-extent-bottom-text axis-extent-text\" dy=\"0.75em\" text-anchor=\"middle\" style=\"cursor: default; user-select: none; font-family: 'Open Sans', verdana, arial, sans-serif; font-size: 10px; fill: rgb(42, 63, 95); fill-opacity: 1;\">0.0116</text></g></g><g class=\"axis-brush\"><rect class=\"background\" x=\"-5\" width=\"10\" visibility=\"visible\" fill=\"yellow\" opacity=\"0\" transform=\"translate(0 2)\" height=\"308\" style=\"visibility: visible; pointer-events: auto;\"/><line class=\"highlight-shadow\" x=\"-2\" stroke-width=\"5\" stroke=\"white\" opacity=\"1\" stroke-linecap=\"butt\" y1=\"310\" stroke-dasharray=\"0,310\"/><line class=\"highlight\" x=\"-2\" stroke-width=\"3\" stroke=\"magenta\" opacity=\"1\" stroke-linecap=\"butt\" y1=\"310\" stroke-dasharray=\"0,310\"/></g></g></g><g class=\"y-axis\" transform=\"translate(135, 0)\"><g class=\"axis-overlays\"><g class=\"axis\"><g class=\"tick\" transform=\"translate(0,244.02283496044438)\" style=\"opacity: 1;\"><line x2=\"-4\" y2=\"0\" fill=\"none\" stroke=\"black\" stroke-opacity=\"0.25\" stroke-width=\"1px\"/><text dy=\".32em\" x=\"-7\" y=\"0\" style=\"text-anchor: end; font-family: 'Open Sans', verdana, arial, sans-serif; font-size: 10px; fill: rgb(42, 63, 95); fill-opacity: 1; text-shadow: rgb(255, 255, 255) 1px 1px 1px, rgb(255, 255, 255) -1px -1px 1px, rgb(255, 255, 255) 1px -1px 1px, rgb(255, 255, 255) -1px 1px 1px; cursor: default; user-select: none;\">0.2</text></g><g class=\"tick\" transform=\"translate(0,179.6397344723111)\" style=\"opacity: 1;\"><line x2=\"-4\" y2=\"0\" fill=\"none\" stroke=\"black\" stroke-opacity=\"0.25\" stroke-width=\"1px\"/><text dy=\".32em\" x=\"-7\" y=\"0\" style=\"text-anchor: end; font-family: 'Open Sans', verdana, arial, sans-serif; font-size: 10px; fill: rgb(42, 63, 95); fill-opacity: 1; text-shadow: rgb(255, 255, 255) 1px 1px 1px, rgb(255, 255, 255) -1px -1px 1px, rgb(255, 255, 255) 1px -1px 1px, rgb(255, 255, 255) -1px 1px 1px; cursor: default; user-select: none;\">0.4</text></g><g class=\"tick\" transform=\"translate(0,115.25663398417775)\" style=\"opacity: 1;\"><line x2=\"-4\" y2=\"0\" fill=\"none\" stroke=\"black\" stroke-opacity=\"0.25\" stroke-width=\"1px\"/><text dy=\".32em\" x=\"-7\" y=\"0\" style=\"text-anchor: end; font-family: 'Open Sans', verdana, arial, sans-serif; font-size: 10px; fill: rgb(42, 63, 95); fill-opacity: 1; text-shadow: rgb(255, 255, 255) 1px 1px 1px, rgb(255, 255, 255) -1px -1px 1px, rgb(255, 255, 255) 1px -1px 1px, rgb(255, 255, 255) -1px 1px 1px; cursor: default; user-select: none;\">0.6</text></g><g class=\"tick\" transform=\"translate(0,50.87353349604444)\" style=\"opacity: 1;\"><line x2=\"-4\" y2=\"0\" fill=\"none\" stroke=\"black\" stroke-opacity=\"0.25\" stroke-width=\"1px\"/><text dy=\".32em\" x=\"-7\" y=\"0\" style=\"text-anchor: end; font-family: 'Open Sans', verdana, arial, sans-serif; font-size: 10px; fill: rgb(42, 63, 95); fill-opacity: 1; text-shadow: rgb(255, 255, 255) 1px 1px 1px, rgb(255, 255, 255) -1px -1px 1px, rgb(255, 255, 255) 1px -1px 1px, rgb(255, 255, 255) -1px 1px 1px; cursor: default; user-select: none;\">0.8</text></g><path class=\"domain\" d=\"M-2,2H0V308H-2\" fill=\"none\" stroke=\"black\" stroke-opacity=\"0.25\" stroke-width=\"1px\"/></g><g class=\"axis-heading\"><text class=\"axis-title\" text-anchor=\"middle\" x=\"0\" y=\"0\" transform=\"rotate(0)translate(0,-28)\" style=\"cursor: ew-resize; user-select: none; pointer-events: auto; font-family: 'Open Sans', verdana, arial, sans-serif; font-size: 10px; fill: rgb(42, 63, 95); fill-opacity: 1; white-space: pre;\">TransFSScore_200nM</text></g><g class=\"axis-extent\"><g class=\"axis-extent-top\" transform=\"translate(0,-10)\"><text class=\"axis-extent-top-text axis-extent-text\" text-anchor=\"middle\" style=\"cursor: default; user-select: none; font-family: 'Open Sans', verdana, arial, sans-serif; font-size: 10px; fill: rgb(42, 63, 95); fill-opacity: 1;\">0.95182</text></g><g class=\"axis-extent-bottom\" transform=\"translate(0,320)\"><text class=\"axis-extent-bottom-text axis-extent-text\" dy=\"0.75em\" text-anchor=\"middle\" style=\"cursor: default; user-select: none; font-family: 'Open Sans', verdana, arial, sans-serif; font-size: 10px; fill: rgb(42, 63, 95); fill-opacity: 1;\">0.00126</text></g></g><g class=\"axis-brush\"><rect class=\"background\" x=\"-5\" width=\"10\" visibility=\"visible\" fill=\"yellow\" opacity=\"0\" transform=\"translate(0 2)\" height=\"308\" style=\"visibility: visible; pointer-events: auto;\"/><line class=\"highlight-shadow\" x=\"-2\" stroke-width=\"5\" stroke=\"white\" opacity=\"1\" stroke-linecap=\"butt\" y1=\"310\" stroke-dasharray=\"0,310\"/><line class=\"highlight\" x=\"-2\" stroke-width=\"3\" stroke=\"magenta\" opacity=\"1\" stroke-linecap=\"butt\" y1=\"310\" stroke-dasharray=\"0,310\"/></g></g></g><g class=\"y-axis\" transform=\"translate(270, 0)\"><g class=\"axis-overlays\"><g class=\"axis\"><g class=\"tick\" transform=\"translate(0,257.29723581387714)\" style=\"opacity: 1;\"><line x2=\"-4\" y2=\"0\" fill=\"none\" stroke=\"black\" stroke-opacity=\"0.25\" stroke-width=\"1px\"/><text dy=\".32em\" x=\"-7\" y=\"0\" style=\"text-anchor: end; font-family: 'Open Sans', verdana, arial, sans-serif; font-size: 10px; fill: rgb(42, 63, 95); fill-opacity: 1; text-shadow: rgb(255, 255, 255) 1px 1px 1px, rgb(255, 255, 255) -1px -1px 1px, rgb(255, 255, 255) 1px -1px 1px, rgb(255, 255, 255) -1px 1px 1px; cursor: default; user-select: none;\">0.1</text></g><g class=\"tick\" transform=\"translate(0,206.55997028719617)\" style=\"opacity: 1;\"><line x2=\"-4\" y2=\"0\" fill=\"none\" stroke=\"black\" stroke-opacity=\"0.25\" stroke-width=\"1px\"/><text dy=\".32em\" x=\"-7\" y=\"0\" style=\"text-anchor: end; font-family: 'Open Sans', verdana, arial, sans-serif; font-size: 10px; fill: rgb(42, 63, 95); fill-opacity: 1; text-shadow: rgb(255, 255, 255) 1px 1px 1px, rgb(255, 255, 255) -1px -1px 1px, rgb(255, 255, 255) 1px -1px 1px, rgb(255, 255, 255) -1px 1px 1px; cursor: default; user-select: none;\">0.2</text></g><g class=\"tick\" transform=\"translate(0,155.8227047605152)\" style=\"opacity: 1;\"><line x2=\"-4\" y2=\"0\" fill=\"none\" stroke=\"black\" stroke-opacity=\"0.25\" stroke-width=\"1px\"/><text dy=\".32em\" x=\"-7\" y=\"0\" style=\"text-anchor: end; font-family: 'Open Sans', verdana, arial, sans-serif; font-size: 10px; fill: rgb(42, 63, 95); fill-opacity: 1; text-shadow: rgb(255, 255, 255) 1px 1px 1px, rgb(255, 255, 255) -1px -1px 1px, rgb(255, 255, 255) 1px -1px 1px, rgb(255, 255, 255) -1px 1px 1px; cursor: default; user-select: none;\">0.3</text></g><g class=\"tick\" transform=\"translate(0,105.08543923383414)\" style=\"opacity: 1;\"><line x2=\"-4\" y2=\"0\" fill=\"none\" stroke=\"black\" stroke-opacity=\"0.25\" stroke-width=\"1px\"/><text dy=\".32em\" x=\"-7\" y=\"0\" style=\"text-anchor: end; font-family: 'Open Sans', verdana, arial, sans-serif; font-size: 10px; fill: rgb(42, 63, 95); fill-opacity: 1; text-shadow: rgb(255, 255, 255) 1px 1px 1px, rgb(255, 255, 255) -1px -1px 1px, rgb(255, 255, 255) 1px -1px 1px, rgb(255, 255, 255) -1px 1px 1px; cursor: default; user-select: none;\">0.4</text></g><g class=\"tick\" transform=\"translate(0,54.34817370715317)\" style=\"opacity: 1;\"><line x2=\"-4\" y2=\"0\" fill=\"none\" stroke=\"black\" stroke-opacity=\"0.25\" stroke-width=\"1px\"/><text dy=\".32em\" x=\"-7\" y=\"0\" style=\"text-anchor: end; font-family: 'Open Sans', verdana, arial, sans-serif; font-size: 10px; fill: rgb(42, 63, 95); fill-opacity: 1; text-shadow: rgb(255, 255, 255) 1px 1px 1px, rgb(255, 255, 255) -1px -1px 1px, rgb(255, 255, 255) 1px -1px 1px, rgb(255, 255, 255) -1px 1px 1px; cursor: default; user-select: none;\">0.5</text></g><g class=\"tick\" transform=\"translate(0,3.6109081804721317)\" style=\"opacity: 1;\"><line x2=\"-4\" y2=\"0\" fill=\"none\" stroke=\"black\" stroke-opacity=\"0.25\" stroke-width=\"1px\"/><text dy=\".32em\" x=\"-7\" y=\"0\" style=\"text-anchor: end; font-family: 'Open Sans', verdana, arial, sans-serif; font-size: 10px; fill: rgb(42, 63, 95); fill-opacity: 1; text-shadow: rgb(255, 255, 255) 1px 1px 1px, rgb(255, 255, 255) -1px -1px 1px, rgb(255, 255, 255) 1px -1px 1px, rgb(255, 255, 255) -1px 1px 1px; cursor: default; user-select: none;\">0.6</text></g><path class=\"domain\" d=\"M-2,2H0V308H-2\" fill=\"none\" stroke=\"black\" stroke-opacity=\"0.25\" stroke-width=\"1px\"/></g><g class=\"axis-heading\"><text class=\"axis-title\" text-anchor=\"middle\" x=\"0\" y=\"0\" transform=\"rotate(0)translate(0,-28)\" style=\"cursor: ew-resize; user-select: none; pointer-events: auto; font-family: 'Open Sans', verdana, arial, sans-serif; font-size: 10px; fill: rgb(42, 63, 95); fill-opacity: 1; white-space: pre;\">TransFSScore_50nM</text></g><g class=\"axis-extent\"><g class=\"axis-extent-top\" transform=\"translate(0,-10)\"><text class=\"axis-extent-top-text axis-extent-text\" text-anchor=\"middle\" style=\"cursor: default; user-select: none; font-family: 'Open Sans', verdana, arial, sans-serif; font-size: 10px; fill: rgb(42, 63, 95); fill-opacity: 1;\">0.60318</text></g><g class=\"axis-extent-bottom\" transform=\"translate(0,320)\"><text class=\"axis-extent-bottom-text axis-extent-text\" dy=\"0.75em\" text-anchor=\"middle\" style=\"cursor: default; user-select: none; font-family: 'Open Sans', verdana, arial, sans-serif; font-size: 10px; fill: rgb(42, 63, 95); fill-opacity: 1;\">0.00007</text></g></g><g class=\"axis-brush\"><rect class=\"background\" x=\"-5\" width=\"10\" visibility=\"visible\" fill=\"yellow\" opacity=\"0\" transform=\"translate(0 2)\" height=\"308\" style=\"visibility: visible; pointer-events: auto;\"/><line class=\"highlight-shadow\" x=\"-2\" stroke-width=\"5\" stroke=\"white\" opacity=\"1\" stroke-linecap=\"butt\" y1=\"310\" stroke-dasharray=\"0,310\"/><line class=\"highlight\" x=\"-2\" stroke-width=\"3\" stroke=\"magenta\" opacity=\"1\" stroke-linecap=\"butt\" y1=\"310\" stroke-dasharray=\"0,310\"/></g></g></g><g class=\"y-axis\" transform=\"translate(405, 0)\"><g class=\"axis-overlays\"><g class=\"axis\"><g class=\"tick\" transform=\"translate(0,266.15918965156493)\" style=\"opacity: 1;\"><line x2=\"-4\" y2=\"0\" fill=\"none\" stroke=\"black\" stroke-opacity=\"0.25\" stroke-width=\"1px\"/><text dy=\".32em\" x=\"-7\" y=\"0\" style=\"text-anchor: end; font-family: 'Open Sans', verdana, arial, sans-serif; font-size: 10px; fill: rgb(42, 63, 95); fill-opacity: 1; text-shadow: rgb(255, 255, 255) 1px 1px 1px, rgb(255, 255, 255) -1px -1px 1px, rgb(255, 255, 255) 1px -1px 1px, rgb(255, 255, 255) -1px 1px 1px; cursor: default; user-select: none;\">0.1</text></g><g class=\"tick\" transform=\"translate(0,224.31252076948638)\" style=\"opacity: 1;\"><line x2=\"-4\" y2=\"0\" fill=\"none\" stroke=\"black\" stroke-opacity=\"0.25\" stroke-width=\"1px\"/><text dy=\".32em\" x=\"-7\" y=\"0\" style=\"text-anchor: end; font-family: 'Open Sans', verdana, arial, sans-serif; font-size: 10px; fill: rgb(42, 63, 95); fill-opacity: 1; text-shadow: rgb(255, 255, 255) 1px 1px 1px, rgb(255, 255, 255) -1px -1px 1px, rgb(255, 255, 255) 1px -1px 1px, rgb(255, 255, 255) -1px 1px 1px; cursor: default; user-select: none;\">0.2</text></g><g class=\"tick\" transform=\"translate(0,182.46585188740787)\" style=\"opacity: 1;\"><line x2=\"-4\" y2=\"0\" fill=\"none\" stroke=\"black\" stroke-opacity=\"0.25\" stroke-width=\"1px\"/><text dy=\".32em\" x=\"-7\" y=\"0\" style=\"text-anchor: end; font-family: 'Open Sans', verdana, arial, sans-serif; font-size: 10px; fill: rgb(42, 63, 95); fill-opacity: 1; text-shadow: rgb(255, 255, 255) 1px 1px 1px, rgb(255, 255, 255) -1px -1px 1px, rgb(255, 255, 255) 1px -1px 1px, rgb(255, 255, 255) -1px 1px 1px; cursor: default; user-select: none;\">0.3</text></g><g class=\"tick\" transform=\"translate(0,140.61918300532932)\" style=\"opacity: 1;\"><line x2=\"-4\" y2=\"0\" fill=\"none\" stroke=\"black\" stroke-opacity=\"0.25\" stroke-width=\"1px\"/><text dy=\".32em\" x=\"-7\" y=\"0\" style=\"text-anchor: end; font-family: 'Open Sans', verdana, arial, sans-serif; font-size: 10px; fill: rgb(42, 63, 95); fill-opacity: 1; text-shadow: rgb(255, 255, 255) 1px 1px 1px, rgb(255, 255, 255) -1px -1px 1px, rgb(255, 255, 255) 1px -1px 1px, rgb(255, 255, 255) -1px 1px 1px; cursor: default; user-select: none;\">0.4</text></g><g class=\"tick\" transform=\"translate(0,98.77251412325074)\" style=\"opacity: 1;\"><line x2=\"-4\" y2=\"0\" fill=\"none\" stroke=\"black\" stroke-opacity=\"0.25\" stroke-width=\"1px\"/><text dy=\".32em\" x=\"-7\" y=\"0\" style=\"text-anchor: end; font-family: 'Open Sans', verdana, arial, sans-serif; font-size: 10px; fill: rgb(42, 63, 95); fill-opacity: 1; text-shadow: rgb(255, 255, 255) 1px 1px 1px, rgb(255, 255, 255) -1px -1px 1px, rgb(255, 255, 255) 1px -1px 1px, rgb(255, 255, 255) -1px 1px 1px; cursor: default; user-select: none;\">0.5</text></g><g class=\"tick\" transform=\"translate(0,56.92584524117219)\" style=\"opacity: 1;\"><line x2=\"-4\" y2=\"0\" fill=\"none\" stroke=\"black\" stroke-opacity=\"0.25\" stroke-width=\"1px\"/><text dy=\".32em\" x=\"-7\" y=\"0\" style=\"text-anchor: end; font-family: 'Open Sans', verdana, arial, sans-serif; font-size: 10px; fill: rgb(42, 63, 95); fill-opacity: 1; text-shadow: rgb(255, 255, 255) 1px 1px 1px, rgb(255, 255, 255) -1px -1px 1px, rgb(255, 255, 255) 1px -1px 1px, rgb(255, 255, 255) -1px 1px 1px; cursor: default; user-select: none;\">0.6</text></g><g class=\"tick\" transform=\"translate(0,15.07917635909367)\" style=\"opacity: 1;\"><line x2=\"-4\" y2=\"0\" fill=\"none\" stroke=\"black\" stroke-opacity=\"0.25\" stroke-width=\"1px\"/><text dy=\".32em\" x=\"-7\" y=\"0\" style=\"text-anchor: end; font-family: 'Open Sans', verdana, arial, sans-serif; font-size: 10px; fill: rgb(42, 63, 95); fill-opacity: 1; text-shadow: rgb(255, 255, 255) 1px 1px 1px, rgb(255, 255, 255) -1px -1px 1px, rgb(255, 255, 255) 1px -1px 1px, rgb(255, 255, 255) -1px 1px 1px; cursor: default; user-select: none;\">0.7</text></g><path class=\"domain\" d=\"M-2,2H0V308H-2\" fill=\"none\" stroke=\"black\" stroke-opacity=\"0.25\" stroke-width=\"1px\"/></g><g class=\"axis-heading\"><text class=\"axis-title\" text-anchor=\"middle\" x=\"0\" y=\"0\" transform=\"rotate(0)translate(0,-28)\" style=\"cursor: ew-resize; user-select: none; pointer-events: auto; font-family: 'Open Sans', verdana, arial, sans-serif; font-size: 10px; fill: rgb(42, 63, 95); fill-opacity: 1; white-space: pre;\">TransFSScore_10nM</text></g><g class=\"axis-extent\"><g class=\"axis-extent-top\" transform=\"translate(0,-10)\"><text class=\"axis-extent-top-text axis-extent-text\" text-anchor=\"middle\" style=\"cursor: default; user-select: none; font-family: 'Open Sans', verdana, arial, sans-serif; font-size: 10px; fill: rgb(42, 63, 95); fill-opacity: 1;\">0.73126</text></g><g class=\"axis-extent-bottom\" transform=\"translate(0,320)\"><text class=\"axis-extent-bottom-text axis-extent-text\" dy=\"0.75em\" text-anchor=\"middle\" style=\"cursor: default; user-select: none; font-family: 'Open Sans', verdana, arial, sans-serif; font-size: 10px; fill: rgb(42, 63, 95); fill-opacity: 1;\">0.00001</text></g></g><g class=\"axis-brush\"><rect class=\"background\" x=\"-5\" width=\"10\" visibility=\"visible\" fill=\"yellow\" opacity=\"0\" transform=\"translate(0 2)\" height=\"308\" style=\"visibility: visible; pointer-events: auto;\"/><line class=\"highlight-shadow\" x=\"-2\" stroke-width=\"5\" stroke=\"white\" opacity=\"1\" stroke-linecap=\"butt\" y1=\"310\" stroke-dasharray=\"0,310\"/><line class=\"highlight\" x=\"-2\" stroke-width=\"3\" stroke=\"magenta\" opacity=\"1\" stroke-linecap=\"butt\" y1=\"310\" stroke-dasharray=\"0,310\"/></g></g></g><g class=\"y-axis\" transform=\"translate(540, 0)\"><g class=\"axis-overlays\"><g class=\"axis\"><g class=\"tick\" transform=\"translate(0,270.14184397163115)\" style=\"opacity: 1;\"><line x2=\"-4\" y2=\"0\" fill=\"none\" stroke=\"black\" stroke-opacity=\"0.25\" stroke-width=\"1px\"/><text dy=\".32em\" x=\"-7\" y=\"0\" style=\"text-anchor: end; font-family: 'Open Sans', verdana, arial, sans-serif; font-size: 10px; fill: rgb(42, 63, 95); fill-opacity: 1; text-shadow: rgb(255, 255, 255) 1px 1px 1px, rgb(255, 255, 255) -1px -1px 1px, rgb(255, 255, 255) 1px -1px 1px, rgb(255, 255, 255) -1px 1px 1px; cursor: default; user-select: none;\">0.1</text></g><g class=\"tick\" transform=\"translate(0,228.27817178881008)\" style=\"opacity: 1;\"><line x2=\"-4\" y2=\"0\" fill=\"none\" stroke=\"black\" stroke-opacity=\"0.25\" stroke-width=\"1px\"/><text dy=\".32em\" x=\"-7\" y=\"0\" style=\"text-anchor: end; font-family: 'Open Sans', verdana, arial, sans-serif; font-size: 10px; fill: rgb(42, 63, 95); fill-opacity: 1; text-shadow: rgb(255, 255, 255) 1px 1px 1px, rgb(255, 255, 255) -1px -1px 1px, rgb(255, 255, 255) 1px -1px 1px, rgb(255, 255, 255) -1px 1px 1px; cursor: default; user-select: none;\">0.2</text></g><g class=\"tick\" transform=\"translate(0,186.414499605989)\" style=\"opacity: 1;\"><line x2=\"-4\" y2=\"0\" fill=\"none\" stroke=\"black\" stroke-opacity=\"0.25\" stroke-width=\"1px\"/><text dy=\".32em\" x=\"-7\" y=\"0\" style=\"text-anchor: end; font-family: 'Open Sans', verdana, arial, sans-serif; font-size: 10px; fill: rgb(42, 63, 95); fill-opacity: 1; text-shadow: rgb(255, 255, 255) 1px 1px 1px, rgb(255, 255, 255) -1px -1px 1px, rgb(255, 255, 255) 1px -1px 1px, rgb(255, 255, 255) -1px 1px 1px; cursor: default; user-select: none;\">0.3</text></g><g class=\"tick\" transform=\"translate(0,144.55082742316785)\" style=\"opacity: 1;\"><line x2=\"-4\" y2=\"0\" fill=\"none\" stroke=\"black\" stroke-opacity=\"0.25\" stroke-width=\"1px\"/><text dy=\".32em\" x=\"-7\" y=\"0\" style=\"text-anchor: end; font-family: 'Open Sans', verdana, arial, sans-serif; font-size: 10px; fill: rgb(42, 63, 95); fill-opacity: 1; text-shadow: rgb(255, 255, 255) 1px 1px 1px, rgb(255, 255, 255) -1px -1px 1px, rgb(255, 255, 255) 1px -1px 1px, rgb(255, 255, 255) -1px 1px 1px; cursor: default; user-select: none;\">0.4</text></g><g class=\"tick\" transform=\"translate(0,102.68715524034675)\" style=\"opacity: 1;\"><line x2=\"-4\" y2=\"0\" fill=\"none\" stroke=\"black\" stroke-opacity=\"0.25\" stroke-width=\"1px\"/><text dy=\".32em\" x=\"-7\" y=\"0\" style=\"text-anchor: end; font-family: 'Open Sans', verdana, arial, sans-serif; font-size: 10px; fill: rgb(42, 63, 95); fill-opacity: 1; text-shadow: rgb(255, 255, 255) 1px 1px 1px, rgb(255, 255, 255) -1px -1px 1px, rgb(255, 255, 255) 1px -1px 1px, rgb(255, 255, 255) -1px 1px 1px; cursor: default; user-select: none;\">0.5</text></g><g class=\"tick\" transform=\"translate(0,60.82348305752563)\" style=\"opacity: 1;\"><line x2=\"-4\" y2=\"0\" fill=\"none\" stroke=\"black\" stroke-opacity=\"0.25\" stroke-width=\"1px\"/><text dy=\".32em\" x=\"-7\" y=\"0\" style=\"text-anchor: end; font-family: 'Open Sans', verdana, arial, sans-serif; font-size: 10px; fill: rgb(42, 63, 95); fill-opacity: 1; text-shadow: rgb(255, 255, 255) 1px 1px 1px, rgb(255, 255, 255) -1px -1px 1px, rgb(255, 255, 255) 1px -1px 1px, rgb(255, 255, 255) -1px 1px 1px; cursor: default; user-select: none;\">0.6</text></g><g class=\"tick\" transform=\"translate(0,18.959810874704537)\" style=\"opacity: 1;\"><line x2=\"-4\" y2=\"0\" fill=\"none\" stroke=\"black\" stroke-opacity=\"0.25\" stroke-width=\"1px\"/><text dy=\".32em\" x=\"-7\" y=\"0\" style=\"text-anchor: end; font-family: 'Open Sans', verdana, arial, sans-serif; font-size: 10px; fill: rgb(42, 63, 95); fill-opacity: 1; text-shadow: rgb(255, 255, 255) 1px 1px 1px, rgb(255, 255, 255) -1px -1px 1px, rgb(255, 255, 255) 1px -1px 1px, rgb(255, 255, 255) -1px 1px 1px; cursor: default; user-select: none;\">0.7</text></g><path class=\"domain\" d=\"M-2,2H0V308H-2\" fill=\"none\" stroke=\"black\" stroke-opacity=\"0.25\" stroke-width=\"1px\"/></g><g class=\"axis-heading\"><text class=\"axis-title\" text-anchor=\"middle\" x=\"0\" y=\"0\" transform=\"rotate(0)translate(0,-28)\" style=\"cursor: ew-resize; user-select: none; pointer-events: auto; font-family: 'Open Sans', verdana, arial, sans-serif; font-size: 10px; fill: rgb(42, 63, 95); fill-opacity: 1; white-space: pre;\">TransFSScore_avg</text></g><g class=\"axis-extent\"><g class=\"axis-extent-top\" transform=\"translate(0,-10)\"><text class=\"axis-extent-top-text axis-extent-text\" text-anchor=\"middle\" style=\"cursor: default; user-select: none; font-family: 'Open Sans', verdana, arial, sans-serif; font-size: 10px; fill: rgb(42, 63, 95); fill-opacity: 1;\">0.74051</text></g><g class=\"axis-extent-bottom\" transform=\"translate(0,320)\"><text class=\"axis-extent-bottom-text axis-extent-text\" dy=\"0.75em\" text-anchor=\"middle\" style=\"cursor: default; user-select: none; font-family: 'Open Sans', verdana, arial, sans-serif; font-size: 10px; fill: rgb(42, 63, 95); fill-opacity: 1;\">0.00957</text></g></g><g class=\"axis-brush\"><rect class=\"background\" x=\"-5\" width=\"10\" visibility=\"visible\" fill=\"yellow\" opacity=\"0\" transform=\"translate(0 2)\" height=\"308\" style=\"visibility: visible; pointer-events: auto;\"/><line class=\"highlight-shadow\" x=\"-2\" stroke-width=\"5\" stroke=\"white\" opacity=\"1\" stroke-linecap=\"butt\" y1=\"310\" stroke-dasharray=\"0,310\"/><line class=\"highlight\" x=\"-2\" stroke-width=\"3\" stroke=\"magenta\" opacity=\"1\" stroke-linecap=\"butt\" y1=\"310\" stroke-dasharray=\"0,310\"/></g></g></g></g></g></svg>"
      ]
     },
     "metadata": {},
     "output_type": "display_data"
    }
   ],
   "source": [
    "fig = px.parallel_coordinates(merged,\n",
    "                dimensions=['TransFSScore_orig', 'TransFSScore_200nM', 'TransFSScore_50nM', 'TransFSScore_10nM', 'TransFSScore_avg']\n",
    "            )\n",
    "fig.show(renderer='svg')"
   ]
  },
  {
   "cell_type": "code",
   "execution_count": 27,
   "metadata": {},
   "outputs": [
    {
     "data": {
      "application/vnd.plotly.v1+json": {
       "config": {
        "plotlyServerURL": "https://plot.ly"
       },
       "data": [
        {
         "alignmentgroup": "True",
         "bingroup": "x",
         "hovertemplate": "TransFSScore_avg=%{x}<br>count=%{y}<extra></extra>",
         "legendgroup": "",
         "marker": {
          "color": "#636efa"
         },
         "name": "",
         "offsetgroup": "",
         "orientation": "v",
         "showlegend": false,
         "type": "histogram",
         "x": [
          0.15876025,
          0.058443999999999996,
          0.0227575,
          0.5391535000000001,
          0.7405120000000001,
          0.08912475,
          0.044483,
          0.018458250000000002,
          0.009568,
          0.01037475,
          0.021306500000000003,
          0.20545125,
          0.01674475,
          0.0487735,
          0.0393465,
          0.0313265,
          0.18859275,
          0.0679565,
          0.372508,
          0.03123525,
          0.30458425,
          0.1884855,
          0.259096,
          0.16016225
         ],
         "xaxis": "x",
         "yaxis": "y"
        }
       ],
       "layout": {
        "barmode": "relative",
        "legend": {
         "tracegroupgap": 0
        },
        "margin": {
         "t": 60
        },
        "template": {
         "data": {
          "bar": [
           {
            "error_x": {
             "color": "#2a3f5f"
            },
            "error_y": {
             "color": "#2a3f5f"
            },
            "marker": {
             "line": {
              "color": "#E5ECF6",
              "width": 0.5
             }
            },
            "type": "bar"
           }
          ],
          "barpolar": [
           {
            "marker": {
             "line": {
              "color": "#E5ECF6",
              "width": 0.5
             }
            },
            "type": "barpolar"
           }
          ],
          "carpet": [
           {
            "aaxis": {
             "endlinecolor": "#2a3f5f",
             "gridcolor": "white",
             "linecolor": "white",
             "minorgridcolor": "white",
             "startlinecolor": "#2a3f5f"
            },
            "baxis": {
             "endlinecolor": "#2a3f5f",
             "gridcolor": "white",
             "linecolor": "white",
             "minorgridcolor": "white",
             "startlinecolor": "#2a3f5f"
            },
            "type": "carpet"
           }
          ],
          "choropleth": [
           {
            "colorbar": {
             "outlinewidth": 0,
             "ticks": ""
            },
            "type": "choropleth"
           }
          ],
          "contour": [
           {
            "colorbar": {
             "outlinewidth": 0,
             "ticks": ""
            },
            "colorscale": [
             [
              0,
              "#0d0887"
             ],
             [
              0.1111111111111111,
              "#46039f"
             ],
             [
              0.2222222222222222,
              "#7201a8"
             ],
             [
              0.3333333333333333,
              "#9c179e"
             ],
             [
              0.4444444444444444,
              "#bd3786"
             ],
             [
              0.5555555555555556,
              "#d8576b"
             ],
             [
              0.6666666666666666,
              "#ed7953"
             ],
             [
              0.7777777777777778,
              "#fb9f3a"
             ],
             [
              0.8888888888888888,
              "#fdca26"
             ],
             [
              1,
              "#f0f921"
             ]
            ],
            "type": "contour"
           }
          ],
          "contourcarpet": [
           {
            "colorbar": {
             "outlinewidth": 0,
             "ticks": ""
            },
            "type": "contourcarpet"
           }
          ],
          "heatmap": [
           {
            "colorbar": {
             "outlinewidth": 0,
             "ticks": ""
            },
            "colorscale": [
             [
              0,
              "#0d0887"
             ],
             [
              0.1111111111111111,
              "#46039f"
             ],
             [
              0.2222222222222222,
              "#7201a8"
             ],
             [
              0.3333333333333333,
              "#9c179e"
             ],
             [
              0.4444444444444444,
              "#bd3786"
             ],
             [
              0.5555555555555556,
              "#d8576b"
             ],
             [
              0.6666666666666666,
              "#ed7953"
             ],
             [
              0.7777777777777778,
              "#fb9f3a"
             ],
             [
              0.8888888888888888,
              "#fdca26"
             ],
             [
              1,
              "#f0f921"
             ]
            ],
            "type": "heatmap"
           }
          ],
          "heatmapgl": [
           {
            "colorbar": {
             "outlinewidth": 0,
             "ticks": ""
            },
            "colorscale": [
             [
              0,
              "#0d0887"
             ],
             [
              0.1111111111111111,
              "#46039f"
             ],
             [
              0.2222222222222222,
              "#7201a8"
             ],
             [
              0.3333333333333333,
              "#9c179e"
             ],
             [
              0.4444444444444444,
              "#bd3786"
             ],
             [
              0.5555555555555556,
              "#d8576b"
             ],
             [
              0.6666666666666666,
              "#ed7953"
             ],
             [
              0.7777777777777778,
              "#fb9f3a"
             ],
             [
              0.8888888888888888,
              "#fdca26"
             ],
             [
              1,
              "#f0f921"
             ]
            ],
            "type": "heatmapgl"
           }
          ],
          "histogram": [
           {
            "marker": {
             "colorbar": {
              "outlinewidth": 0,
              "ticks": ""
             }
            },
            "type": "histogram"
           }
          ],
          "histogram2d": [
           {
            "colorbar": {
             "outlinewidth": 0,
             "ticks": ""
            },
            "colorscale": [
             [
              0,
              "#0d0887"
             ],
             [
              0.1111111111111111,
              "#46039f"
             ],
             [
              0.2222222222222222,
              "#7201a8"
             ],
             [
              0.3333333333333333,
              "#9c179e"
             ],
             [
              0.4444444444444444,
              "#bd3786"
             ],
             [
              0.5555555555555556,
              "#d8576b"
             ],
             [
              0.6666666666666666,
              "#ed7953"
             ],
             [
              0.7777777777777778,
              "#fb9f3a"
             ],
             [
              0.8888888888888888,
              "#fdca26"
             ],
             [
              1,
              "#f0f921"
             ]
            ],
            "type": "histogram2d"
           }
          ],
          "histogram2dcontour": [
           {
            "colorbar": {
             "outlinewidth": 0,
             "ticks": ""
            },
            "colorscale": [
             [
              0,
              "#0d0887"
             ],
             [
              0.1111111111111111,
              "#46039f"
             ],
             [
              0.2222222222222222,
              "#7201a8"
             ],
             [
              0.3333333333333333,
              "#9c179e"
             ],
             [
              0.4444444444444444,
              "#bd3786"
             ],
             [
              0.5555555555555556,
              "#d8576b"
             ],
             [
              0.6666666666666666,
              "#ed7953"
             ],
             [
              0.7777777777777778,
              "#fb9f3a"
             ],
             [
              0.8888888888888888,
              "#fdca26"
             ],
             [
              1,
              "#f0f921"
             ]
            ],
            "type": "histogram2dcontour"
           }
          ],
          "mesh3d": [
           {
            "colorbar": {
             "outlinewidth": 0,
             "ticks": ""
            },
            "type": "mesh3d"
           }
          ],
          "parcoords": [
           {
            "line": {
             "colorbar": {
              "outlinewidth": 0,
              "ticks": ""
             }
            },
            "type": "parcoords"
           }
          ],
          "pie": [
           {
            "automargin": true,
            "type": "pie"
           }
          ],
          "scatter": [
           {
            "marker": {
             "colorbar": {
              "outlinewidth": 0,
              "ticks": ""
             }
            },
            "type": "scatter"
           }
          ],
          "scatter3d": [
           {
            "line": {
             "colorbar": {
              "outlinewidth": 0,
              "ticks": ""
             }
            },
            "marker": {
             "colorbar": {
              "outlinewidth": 0,
              "ticks": ""
             }
            },
            "type": "scatter3d"
           }
          ],
          "scattercarpet": [
           {
            "marker": {
             "colorbar": {
              "outlinewidth": 0,
              "ticks": ""
             }
            },
            "type": "scattercarpet"
           }
          ],
          "scattergeo": [
           {
            "marker": {
             "colorbar": {
              "outlinewidth": 0,
              "ticks": ""
             }
            },
            "type": "scattergeo"
           }
          ],
          "scattergl": [
           {
            "marker": {
             "colorbar": {
              "outlinewidth": 0,
              "ticks": ""
             }
            },
            "type": "scattergl"
           }
          ],
          "scattermapbox": [
           {
            "marker": {
             "colorbar": {
              "outlinewidth": 0,
              "ticks": ""
             }
            },
            "type": "scattermapbox"
           }
          ],
          "scatterpolar": [
           {
            "marker": {
             "colorbar": {
              "outlinewidth": 0,
              "ticks": ""
             }
            },
            "type": "scatterpolar"
           }
          ],
          "scatterpolargl": [
           {
            "marker": {
             "colorbar": {
              "outlinewidth": 0,
              "ticks": ""
             }
            },
            "type": "scatterpolargl"
           }
          ],
          "scatterternary": [
           {
            "marker": {
             "colorbar": {
              "outlinewidth": 0,
              "ticks": ""
             }
            },
            "type": "scatterternary"
           }
          ],
          "surface": [
           {
            "colorbar": {
             "outlinewidth": 0,
             "ticks": ""
            },
            "colorscale": [
             [
              0,
              "#0d0887"
             ],
             [
              0.1111111111111111,
              "#46039f"
             ],
             [
              0.2222222222222222,
              "#7201a8"
             ],
             [
              0.3333333333333333,
              "#9c179e"
             ],
             [
              0.4444444444444444,
              "#bd3786"
             ],
             [
              0.5555555555555556,
              "#d8576b"
             ],
             [
              0.6666666666666666,
              "#ed7953"
             ],
             [
              0.7777777777777778,
              "#fb9f3a"
             ],
             [
              0.8888888888888888,
              "#fdca26"
             ],
             [
              1,
              "#f0f921"
             ]
            ],
            "type": "surface"
           }
          ],
          "table": [
           {
            "cells": {
             "fill": {
              "color": "#EBF0F8"
             },
             "line": {
              "color": "white"
             }
            },
            "header": {
             "fill": {
              "color": "#C8D4E3"
             },
             "line": {
              "color": "white"
             }
            },
            "type": "table"
           }
          ]
         },
         "layout": {
          "annotationdefaults": {
           "arrowcolor": "#2a3f5f",
           "arrowhead": 0,
           "arrowwidth": 1
          },
          "coloraxis": {
           "colorbar": {
            "outlinewidth": 0,
            "ticks": ""
           }
          },
          "colorscale": {
           "diverging": [
            [
             0,
             "#8e0152"
            ],
            [
             0.1,
             "#c51b7d"
            ],
            [
             0.2,
             "#de77ae"
            ],
            [
             0.3,
             "#f1b6da"
            ],
            [
             0.4,
             "#fde0ef"
            ],
            [
             0.5,
             "#f7f7f7"
            ],
            [
             0.6,
             "#e6f5d0"
            ],
            [
             0.7,
             "#b8e186"
            ],
            [
             0.8,
             "#7fbc41"
            ],
            [
             0.9,
             "#4d9221"
            ],
            [
             1,
             "#276419"
            ]
           ],
           "sequential": [
            [
             0,
             "#0d0887"
            ],
            [
             0.1111111111111111,
             "#46039f"
            ],
            [
             0.2222222222222222,
             "#7201a8"
            ],
            [
             0.3333333333333333,
             "#9c179e"
            ],
            [
             0.4444444444444444,
             "#bd3786"
            ],
            [
             0.5555555555555556,
             "#d8576b"
            ],
            [
             0.6666666666666666,
             "#ed7953"
            ],
            [
             0.7777777777777778,
             "#fb9f3a"
            ],
            [
             0.8888888888888888,
             "#fdca26"
            ],
            [
             1,
             "#f0f921"
            ]
           ],
           "sequentialminus": [
            [
             0,
             "#0d0887"
            ],
            [
             0.1111111111111111,
             "#46039f"
            ],
            [
             0.2222222222222222,
             "#7201a8"
            ],
            [
             0.3333333333333333,
             "#9c179e"
            ],
            [
             0.4444444444444444,
             "#bd3786"
            ],
            [
             0.5555555555555556,
             "#d8576b"
            ],
            [
             0.6666666666666666,
             "#ed7953"
            ],
            [
             0.7777777777777778,
             "#fb9f3a"
            ],
            [
             0.8888888888888888,
             "#fdca26"
            ],
            [
             1,
             "#f0f921"
            ]
           ]
          },
          "colorway": [
           "#636efa",
           "#EF553B",
           "#00cc96",
           "#ab63fa",
           "#FFA15A",
           "#19d3f3",
           "#FF6692",
           "#B6E880",
           "#FF97FF",
           "#FECB52"
          ],
          "font": {
           "color": "#2a3f5f"
          },
          "geo": {
           "bgcolor": "white",
           "lakecolor": "white",
           "landcolor": "#E5ECF6",
           "showlakes": true,
           "showland": true,
           "subunitcolor": "white"
          },
          "hoverlabel": {
           "align": "left"
          },
          "hovermode": "closest",
          "mapbox": {
           "style": "light"
          },
          "paper_bgcolor": "white",
          "plot_bgcolor": "#E5ECF6",
          "polar": {
           "angularaxis": {
            "gridcolor": "white",
            "linecolor": "white",
            "ticks": ""
           },
           "bgcolor": "#E5ECF6",
           "radialaxis": {
            "gridcolor": "white",
            "linecolor": "white",
            "ticks": ""
           }
          },
          "scene": {
           "xaxis": {
            "backgroundcolor": "#E5ECF6",
            "gridcolor": "white",
            "gridwidth": 2,
            "linecolor": "white",
            "showbackground": true,
            "ticks": "",
            "zerolinecolor": "white"
           },
           "yaxis": {
            "backgroundcolor": "#E5ECF6",
            "gridcolor": "white",
            "gridwidth": 2,
            "linecolor": "white",
            "showbackground": true,
            "ticks": "",
            "zerolinecolor": "white"
           },
           "zaxis": {
            "backgroundcolor": "#E5ECF6",
            "gridcolor": "white",
            "gridwidth": 2,
            "linecolor": "white",
            "showbackground": true,
            "ticks": "",
            "zerolinecolor": "white"
           }
          },
          "shapedefaults": {
           "line": {
            "color": "#2a3f5f"
           }
          },
          "ternary": {
           "aaxis": {
            "gridcolor": "white",
            "linecolor": "white",
            "ticks": ""
           },
           "baxis": {
            "gridcolor": "white",
            "linecolor": "white",
            "ticks": ""
           },
           "bgcolor": "#E5ECF6",
           "caxis": {
            "gridcolor": "white",
            "linecolor": "white",
            "ticks": ""
           }
          },
          "title": {
           "x": 0.05
          },
          "xaxis": {
           "automargin": true,
           "gridcolor": "white",
           "linecolor": "white",
           "ticks": "",
           "title": {
            "standoff": 15
           },
           "zerolinecolor": "white",
           "zerolinewidth": 2
          },
          "yaxis": {
           "automargin": true,
           "gridcolor": "white",
           "linecolor": "white",
           "ticks": "",
           "title": {
            "standoff": 15
           },
           "zerolinecolor": "white",
           "zerolinewidth": 2
          }
         }
        },
        "xaxis": {
         "anchor": "y",
         "domain": [
          0,
          1
         ],
         "title": {
          "text": "TransFSScore_avg"
         }
        },
        "yaxis": {
         "anchor": "x",
         "domain": [
          0,
          1
         ],
         "title": {
          "text": "count"
         }
        }
       }
      },
      "text/html": [
       "<div>\n",
       "        \n",
       "        \n",
       "            <div id=\"7db588af-4bf7-45c9-add4-a089f925c6eb\" class=\"plotly-graph-div\" style=\"height:525px; width:100%;\"></div>\n",
       "            <script type=\"text/javascript\">\n",
       "                require([\"plotly\"], function(Plotly) {\n",
       "                    window.PLOTLYENV=window.PLOTLYENV || {};\n",
       "                    \n",
       "                if (document.getElementById(\"7db588af-4bf7-45c9-add4-a089f925c6eb\")) {\n",
       "                    Plotly.newPlot(\n",
       "                        '7db588af-4bf7-45c9-add4-a089f925c6eb',\n",
       "                        [{\"alignmentgroup\": \"True\", \"bingroup\": \"x\", \"hovertemplate\": \"TransFSScore_avg=%{x}<br>count=%{y}<extra></extra>\", \"legendgroup\": \"\", \"marker\": {\"color\": \"#636efa\"}, \"name\": \"\", \"offsetgroup\": \"\", \"orientation\": \"v\", \"showlegend\": false, \"type\": \"histogram\", \"x\": [0.15876025, 0.058443999999999996, 0.0227575, 0.5391535000000001, 0.7405120000000001, 0.08912475, 0.044483, 0.018458250000000002, 0.009568, 0.01037475, 0.021306500000000003, 0.20545125, 0.01674475, 0.0487735, 0.0393465, 0.0313265, 0.18859275, 0.0679565, 0.372508, 0.03123525, 0.30458425, 0.1884855, 0.259096, 0.16016225], \"xaxis\": \"x\", \"yaxis\": \"y\"}],\n",
       "                        {\"barmode\": \"relative\", \"legend\": {\"tracegroupgap\": 0}, \"margin\": {\"t\": 60}, \"template\": {\"data\": {\"bar\": [{\"error_x\": {\"color\": \"#2a3f5f\"}, \"error_y\": {\"color\": \"#2a3f5f\"}, \"marker\": {\"line\": {\"color\": \"#E5ECF6\", \"width\": 0.5}}, \"type\": \"bar\"}], \"barpolar\": [{\"marker\": {\"line\": {\"color\": \"#E5ECF6\", \"width\": 0.5}}, \"type\": \"barpolar\"}], \"carpet\": [{\"aaxis\": {\"endlinecolor\": \"#2a3f5f\", \"gridcolor\": \"white\", \"linecolor\": \"white\", \"minorgridcolor\": \"white\", \"startlinecolor\": \"#2a3f5f\"}, \"baxis\": {\"endlinecolor\": \"#2a3f5f\", \"gridcolor\": \"white\", \"linecolor\": \"white\", \"minorgridcolor\": \"white\", \"startlinecolor\": \"#2a3f5f\"}, \"type\": \"carpet\"}], \"choropleth\": [{\"colorbar\": {\"outlinewidth\": 0, \"ticks\": \"\"}, \"type\": \"choropleth\"}], \"contour\": [{\"colorbar\": {\"outlinewidth\": 0, \"ticks\": \"\"}, \"colorscale\": [[0.0, \"#0d0887\"], [0.1111111111111111, \"#46039f\"], [0.2222222222222222, \"#7201a8\"], [0.3333333333333333, \"#9c179e\"], [0.4444444444444444, \"#bd3786\"], [0.5555555555555556, \"#d8576b\"], [0.6666666666666666, \"#ed7953\"], [0.7777777777777778, \"#fb9f3a\"], [0.8888888888888888, \"#fdca26\"], [1.0, \"#f0f921\"]], \"type\": \"contour\"}], \"contourcarpet\": [{\"colorbar\": {\"outlinewidth\": 0, \"ticks\": \"\"}, \"type\": \"contourcarpet\"}], \"heatmap\": [{\"colorbar\": {\"outlinewidth\": 0, \"ticks\": \"\"}, \"colorscale\": [[0.0, \"#0d0887\"], [0.1111111111111111, \"#46039f\"], [0.2222222222222222, \"#7201a8\"], [0.3333333333333333, \"#9c179e\"], [0.4444444444444444, \"#bd3786\"], [0.5555555555555556, \"#d8576b\"], [0.6666666666666666, \"#ed7953\"], [0.7777777777777778, \"#fb9f3a\"], [0.8888888888888888, \"#fdca26\"], [1.0, \"#f0f921\"]], \"type\": \"heatmap\"}], \"heatmapgl\": [{\"colorbar\": {\"outlinewidth\": 0, \"ticks\": \"\"}, \"colorscale\": [[0.0, \"#0d0887\"], [0.1111111111111111, \"#46039f\"], [0.2222222222222222, \"#7201a8\"], [0.3333333333333333, \"#9c179e\"], [0.4444444444444444, \"#bd3786\"], [0.5555555555555556, \"#d8576b\"], [0.6666666666666666, \"#ed7953\"], [0.7777777777777778, \"#fb9f3a\"], [0.8888888888888888, \"#fdca26\"], [1.0, \"#f0f921\"]], \"type\": \"heatmapgl\"}], \"histogram\": [{\"marker\": {\"colorbar\": {\"outlinewidth\": 0, \"ticks\": \"\"}}, \"type\": \"histogram\"}], \"histogram2d\": [{\"colorbar\": {\"outlinewidth\": 0, \"ticks\": \"\"}, \"colorscale\": [[0.0, \"#0d0887\"], [0.1111111111111111, \"#46039f\"], [0.2222222222222222, \"#7201a8\"], [0.3333333333333333, \"#9c179e\"], [0.4444444444444444, \"#bd3786\"], [0.5555555555555556, \"#d8576b\"], [0.6666666666666666, \"#ed7953\"], [0.7777777777777778, \"#fb9f3a\"], [0.8888888888888888, \"#fdca26\"], [1.0, \"#f0f921\"]], \"type\": \"histogram2d\"}], \"histogram2dcontour\": [{\"colorbar\": {\"outlinewidth\": 0, \"ticks\": \"\"}, \"colorscale\": [[0.0, \"#0d0887\"], [0.1111111111111111, \"#46039f\"], [0.2222222222222222, \"#7201a8\"], [0.3333333333333333, \"#9c179e\"], [0.4444444444444444, \"#bd3786\"], [0.5555555555555556, \"#d8576b\"], [0.6666666666666666, \"#ed7953\"], [0.7777777777777778, \"#fb9f3a\"], [0.8888888888888888, \"#fdca26\"], [1.0, \"#f0f921\"]], \"type\": \"histogram2dcontour\"}], \"mesh3d\": [{\"colorbar\": {\"outlinewidth\": 0, \"ticks\": \"\"}, \"type\": \"mesh3d\"}], \"parcoords\": [{\"line\": {\"colorbar\": {\"outlinewidth\": 0, \"ticks\": \"\"}}, \"type\": \"parcoords\"}], \"pie\": [{\"automargin\": true, \"type\": \"pie\"}], \"scatter\": [{\"marker\": {\"colorbar\": {\"outlinewidth\": 0, \"ticks\": \"\"}}, \"type\": \"scatter\"}], \"scatter3d\": [{\"line\": {\"colorbar\": {\"outlinewidth\": 0, \"ticks\": \"\"}}, \"marker\": {\"colorbar\": {\"outlinewidth\": 0, \"ticks\": \"\"}}, \"type\": \"scatter3d\"}], \"scattercarpet\": [{\"marker\": {\"colorbar\": {\"outlinewidth\": 0, \"ticks\": \"\"}}, \"type\": \"scattercarpet\"}], \"scattergeo\": [{\"marker\": {\"colorbar\": {\"outlinewidth\": 0, \"ticks\": \"\"}}, \"type\": \"scattergeo\"}], \"scattergl\": [{\"marker\": {\"colorbar\": {\"outlinewidth\": 0, \"ticks\": \"\"}}, \"type\": \"scattergl\"}], \"scattermapbox\": [{\"marker\": {\"colorbar\": {\"outlinewidth\": 0, \"ticks\": \"\"}}, \"type\": \"scattermapbox\"}], \"scatterpolar\": [{\"marker\": {\"colorbar\": {\"outlinewidth\": 0, \"ticks\": \"\"}}, \"type\": \"scatterpolar\"}], \"scatterpolargl\": [{\"marker\": {\"colorbar\": {\"outlinewidth\": 0, \"ticks\": \"\"}}, \"type\": \"scatterpolargl\"}], \"scatterternary\": [{\"marker\": {\"colorbar\": {\"outlinewidth\": 0, \"ticks\": \"\"}}, \"type\": \"scatterternary\"}], \"surface\": [{\"colorbar\": {\"outlinewidth\": 0, \"ticks\": \"\"}, \"colorscale\": [[0.0, \"#0d0887\"], [0.1111111111111111, \"#46039f\"], [0.2222222222222222, \"#7201a8\"], [0.3333333333333333, \"#9c179e\"], [0.4444444444444444, \"#bd3786\"], [0.5555555555555556, \"#d8576b\"], [0.6666666666666666, \"#ed7953\"], [0.7777777777777778, \"#fb9f3a\"], [0.8888888888888888, \"#fdca26\"], [1.0, \"#f0f921\"]], \"type\": \"surface\"}], \"table\": [{\"cells\": {\"fill\": {\"color\": \"#EBF0F8\"}, \"line\": {\"color\": \"white\"}}, \"header\": {\"fill\": {\"color\": \"#C8D4E3\"}, \"line\": {\"color\": \"white\"}}, \"type\": \"table\"}]}, \"layout\": {\"annotationdefaults\": {\"arrowcolor\": \"#2a3f5f\", \"arrowhead\": 0, \"arrowwidth\": 1}, \"coloraxis\": {\"colorbar\": {\"outlinewidth\": 0, \"ticks\": \"\"}}, \"colorscale\": {\"diverging\": [[0, \"#8e0152\"], [0.1, \"#c51b7d\"], [0.2, \"#de77ae\"], [0.3, \"#f1b6da\"], [0.4, \"#fde0ef\"], [0.5, \"#f7f7f7\"], [0.6, \"#e6f5d0\"], [0.7, \"#b8e186\"], [0.8, \"#7fbc41\"], [0.9, \"#4d9221\"], [1, \"#276419\"]], \"sequential\": [[0.0, \"#0d0887\"], [0.1111111111111111, \"#46039f\"], [0.2222222222222222, \"#7201a8\"], [0.3333333333333333, \"#9c179e\"], [0.4444444444444444, \"#bd3786\"], [0.5555555555555556, \"#d8576b\"], [0.6666666666666666, \"#ed7953\"], [0.7777777777777778, \"#fb9f3a\"], [0.8888888888888888, \"#fdca26\"], [1.0, \"#f0f921\"]], \"sequentialminus\": [[0.0, \"#0d0887\"], [0.1111111111111111, \"#46039f\"], [0.2222222222222222, \"#7201a8\"], [0.3333333333333333, \"#9c179e\"], [0.4444444444444444, \"#bd3786\"], [0.5555555555555556, \"#d8576b\"], [0.6666666666666666, \"#ed7953\"], [0.7777777777777778, \"#fb9f3a\"], [0.8888888888888888, \"#fdca26\"], [1.0, \"#f0f921\"]]}, \"colorway\": [\"#636efa\", \"#EF553B\", \"#00cc96\", \"#ab63fa\", \"#FFA15A\", \"#19d3f3\", \"#FF6692\", \"#B6E880\", \"#FF97FF\", \"#FECB52\"], \"font\": {\"color\": \"#2a3f5f\"}, \"geo\": {\"bgcolor\": \"white\", \"lakecolor\": \"white\", \"landcolor\": \"#E5ECF6\", \"showlakes\": true, \"showland\": true, \"subunitcolor\": \"white\"}, \"hoverlabel\": {\"align\": \"left\"}, \"hovermode\": \"closest\", \"mapbox\": {\"style\": \"light\"}, \"paper_bgcolor\": \"white\", \"plot_bgcolor\": \"#E5ECF6\", \"polar\": {\"angularaxis\": {\"gridcolor\": \"white\", \"linecolor\": \"white\", \"ticks\": \"\"}, \"bgcolor\": \"#E5ECF6\", \"radialaxis\": {\"gridcolor\": \"white\", \"linecolor\": \"white\", \"ticks\": \"\"}}, \"scene\": {\"xaxis\": {\"backgroundcolor\": \"#E5ECF6\", \"gridcolor\": \"white\", \"gridwidth\": 2, \"linecolor\": \"white\", \"showbackground\": true, \"ticks\": \"\", \"zerolinecolor\": \"white\"}, \"yaxis\": {\"backgroundcolor\": \"#E5ECF6\", \"gridcolor\": \"white\", \"gridwidth\": 2, \"linecolor\": \"white\", \"showbackground\": true, \"ticks\": \"\", \"zerolinecolor\": \"white\"}, \"zaxis\": {\"backgroundcolor\": \"#E5ECF6\", \"gridcolor\": \"white\", \"gridwidth\": 2, \"linecolor\": \"white\", \"showbackground\": true, \"ticks\": \"\", \"zerolinecolor\": \"white\"}}, \"shapedefaults\": {\"line\": {\"color\": \"#2a3f5f\"}}, \"ternary\": {\"aaxis\": {\"gridcolor\": \"white\", \"linecolor\": \"white\", \"ticks\": \"\"}, \"baxis\": {\"gridcolor\": \"white\", \"linecolor\": \"white\", \"ticks\": \"\"}, \"bgcolor\": \"#E5ECF6\", \"caxis\": {\"gridcolor\": \"white\", \"linecolor\": \"white\", \"ticks\": \"\"}}, \"title\": {\"x\": 0.05}, \"xaxis\": {\"automargin\": true, \"gridcolor\": \"white\", \"linecolor\": \"white\", \"ticks\": \"\", \"title\": {\"standoff\": 15}, \"zerolinecolor\": \"white\", \"zerolinewidth\": 2}, \"yaxis\": {\"automargin\": true, \"gridcolor\": \"white\", \"linecolor\": \"white\", \"ticks\": \"\", \"title\": {\"standoff\": 15}, \"zerolinecolor\": \"white\", \"zerolinewidth\": 2}}}, \"xaxis\": {\"anchor\": \"y\", \"domain\": [0.0, 1.0], \"title\": {\"text\": \"TransFSScore_avg\"}}, \"yaxis\": {\"anchor\": \"x\", \"domain\": [0.0, 1.0], \"title\": {\"text\": \"count\"}}},\n",
       "                        {\"responsive\": true}\n",
       "                    ).then(function(){\n",
       "                            \n",
       "var gd = document.getElementById('7db588af-4bf7-45c9-add4-a089f925c6eb');\n",
       "var x = new MutationObserver(function (mutations, observer) {{\n",
       "        var display = window.getComputedStyle(gd).display;\n",
       "        if (!display || display === 'none') {{\n",
       "            console.log([gd, 'removed!']);\n",
       "            Plotly.purge(gd);\n",
       "            observer.disconnect();\n",
       "        }}\n",
       "}});\n",
       "\n",
       "// Listen for the removal of the full notebook cells\n",
       "var notebookContainer = gd.closest('#notebook-container');\n",
       "if (notebookContainer) {{\n",
       "    x.observe(notebookContainer, {childList: true});\n",
       "}}\n",
       "\n",
       "// Listen for the clearing of the current output cell\n",
       "var outputEl = gd.closest('.output');\n",
       "if (outputEl) {{\n",
       "    x.observe(outputEl, {childList: true});\n",
       "}}\n",
       "\n",
       "                        })\n",
       "                };\n",
       "                });\n",
       "            </script>\n",
       "        </div>"
      ]
     },
     "metadata": {},
     "output_type": "display_data"
    }
   ],
   "source": [
    "fig = px.histogram(merged, x=\"TransFSScore_avg\")\n",
    "fig.show()"
   ]
  }
 ],
 "metadata": {
  "kernelspec": {
   "display_name": "Python 3",
   "language": "python",
   "name": "python3"
  },
  "language_info": {
   "codemirror_mode": {
    "name": "ipython",
    "version": 3
   },
   "file_extension": ".py",
   "mimetype": "text/x-python",
   "name": "python",
   "nbconvert_exporter": "python",
   "pygments_lexer": "ipython3",
   "version": "3.8.2"
  }
 },
 "nbformat": 4,
 "nbformat_minor": 4
}
